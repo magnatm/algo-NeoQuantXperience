{
 "cells": [
  {
   "cell_type": "code",
   "execution_count": null,
   "id": "b6f9985e-3d88-4271-be78-7357dfadb9ec",
   "metadata": {},
   "outputs": [],
   "source": [
    "import os\n",
    "os.chdir('algo-NeoQuantXperience/algo_neoquantxperience/')"
   ]
  },
  {
   "cell_type": "code",
   "execution_count": null,
   "id": "a9925e61-b22a-411a-8ef1-ca31ddf32d1b",
   "metadata": {},
   "outputs": [],
   "source": [
    "from algotrader.AlgoTrader import Dispatcher\n",
    "import torch"
   ]
  },
  {
   "cell_type": "code",
   "execution_count": null,
   "id": "20c0d97f-c1c5-46d4-b24f-3e79e6812ce7",
   "metadata": {},
   "outputs": [],
   "source": [
    "os.chdir('../../')"
   ]
  },
  {
   "cell_type": "code",
   "execution_count": null,
   "id": "29ec12f5-c398-482c-8486-aaff94ab3498",
   "metadata": {},
   "outputs": [],
   "source": [
    "top_45_ids = ['AFKS', 'AFLT', 'AGRO', 'ALRS', 'CBOM', 'CHMF', 'ENPG', 'FEES',\n",
    "       'FIVE', 'GAZP', 'GLTR', 'GMKN', 'HYDR', 'IRAO', 'LKOH', 'MAGN',\n",
    "       'MGNT', 'MOEX', 'MTSS', 'NLMK', 'NVTK', 'OZON', 'PHOR', 'PIKK',\n",
    "       'PLZL', 'POLY', 'POSI', 'QIWI', 'ROSN', 'RTKM', 'RUAL', 'SBER',\n",
    "       'SBERP', 'SELG', 'SGZH', 'SNGS', 'SNGSP', 'TATN', 'TATNP', 'TCSG',\n",
    "       'TRNFP', 'UPRO', 'VKCO', 'VTBR', 'YNDX']\n",
    "start_prices = 200 * (0.5 + torch.rand(45))\n",
    "dispatcher = Dispatcher([],top_45_ids,1000, default_prices=start_prices)\n",
    "dispatcher.test_algotrader()"
   ]
  },
  {
   "cell_type": "code",
   "execution_count": null,
   "id": "f417cb60-15dc-4606-8e04-4371169405b2",
   "metadata": {},
   "outputs": [],
   "source": []
  }
 ],
 "metadata": {
  "kernelspec": {
   "display_name": "Python 3 (ipykernel)",
   "language": "python",
   "name": "python3"
  },
  "language_info": {
   "codemirror_mode": {
    "name": "ipython",
    "version": 3
   },
   "file_extension": ".py",
   "mimetype": "text/x-python",
   "name": "python",
   "nbconvert_exporter": "python",
   "pygments_lexer": "ipython3",
   "version": "3.10.8"
  }
 },
 "nbformat": 4,
 "nbformat_minor": 5
}
