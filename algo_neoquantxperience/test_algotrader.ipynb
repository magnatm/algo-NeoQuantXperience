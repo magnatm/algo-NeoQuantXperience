{
 "cells": [
  {
   "cell_type": "code",
   "execution_count": 1,
   "id": "b6f9985e-3d88-4271-be78-7357dfadb9ec",
   "metadata": {},
   "outputs": [],
   "source": [
    "import os\n",
    "import pandas as pd\n",
    "from algo_neoquantxperience.common_constants import NEWS_DATA\n",
    "# os.chdir(r'C:\\algo_hack\\algo-NeoQuantXperience\\algo_neoquantxperience')"
   ]
  },
  {
   "cell_type": "code",
   "execution_count": null,
   "id": "a9925e61-b22a-411a-8ef1-ca31ddf32d1b",
   "metadata": {},
   "outputs": [],
   "source": [
    "from algo_neoquantxperience.algotrader.AlgoTrader import Dispatcher\n",
    "import torch"
   ]
  },
  {
   "cell_type": "code",
   "execution_count": null,
   "id": "29ec12f5-c398-482c-8486-aaff94ab3498",
   "metadata": {},
   "outputs": [],
   "source": [
    "top_45_ids = ['AFKS', 'AFLT', 'AGRO', 'ALRS', 'CBOM', 'CHMF', 'ENPG', 'FEES',\n",
    "       'FIVE', 'GAZP', 'GLTR', 'GMKN', 'HYDR', 'IRAO', 'LKOH', 'MAGN',\n",
    "       'MGNT', 'MOEX', 'MTSS', 'NLMK', 'NVTK', 'OZON', 'PHOR', 'PIKK',\n",
    "       'PLZL', 'POLY', 'POSI', 'QIWI', 'ROSN', 'RTKM', 'RUAL', 'SBER',\n",
    "       'SBERP', 'SELG', 'SGZH', 'SNGS', 'SNGSP', 'TATN', 'TATNP', 'TCSG',\n",
    "       'TRNFP', 'UPRO', 'VKCO', 'VTBR', 'YNDX']"
   ]
  },
  {
   "cell_type": "code",
   "execution_count": 56,
   "id": "60c650ec-43ab-4a96-9187-1c9090fbadb0",
   "metadata": {},
   "outputs": [],
   "source": [
    "df_45_by_10min = pd.read_csv('datasets_for_algotrader/BACKTEST_algo_candles_by_10min.csv', parse_dates=['begin', 'end'])"
   ]
  },
  {
   "cell_type": "code",
   "execution_count": 57,
   "id": "b3beffb4-1034-4132-9dfe-9c65047ed918",
   "metadata": {},
   "outputs": [
    {
     "data": {
      "text/plain": [
       "166849"
      ]
     },
     "execution_count": 57,
     "metadata": {},
     "output_type": "execute_result"
    }
   ],
   "source": [
    "len(df_45_by_10min)"
   ]
  },
  {
   "cell_type": "code",
   "execution_count": null,
   "id": "c720c56a-bef4-426f-8d78-b60bb1095fab",
   "metadata": {},
   "outputs": [],
   "source": [
    "df_45_by_10min.shape"
   ]
  },
  {
   "cell_type": "code",
   "execution_count": null,
   "id": "252c6b7b-7ea7-4a9e-bc5f-a19cfb74badb",
   "metadata": {},
   "outputs": [],
   "source": [
    "df_45_by_10min.dtypes"
   ]
  },
  {
   "cell_type": "code",
   "execution_count": null,
   "id": "5a5ff3d5-615a-4b61-9221-41c4586beeb2",
   "metadata": {},
   "outputs": [],
   "source": [
    "len(list(df_45_by_10min['begin'].unique()))"
   ]
  },
  {
   "cell_type": "code",
   "execution_count": null,
   "id": "3f5e2004-6092-49ec-a7f9-fa476a1b1bd1",
   "metadata": {},
   "outputs": [],
   "source": [
    "stime = sorted(list(df_45_by_10min['begin'].unique()))[1200]"
   ]
  },
  {
   "cell_type": "code",
   "execution_count": null,
   "id": "75002dd2-bb81-4ee5-bb8e-788a5991d646",
   "metadata": {},
   "outputs": [],
   "source": [
    "start_prices = df_45_by_10min[df_45_by_10min['begin']==stime]['open']"
   ]
  },
  {
   "cell_type": "code",
   "execution_count": null,
   "id": "5d346f9d-70b1-42fe-9c66-ab647c6d2d19",
   "metadata": {},
   "outputs": [],
   "source": [
    "len(start_prices)"
   ]
  },
  {
   "cell_type": "code",
   "execution_count": null,
   "id": "f417cb60-15dc-4606-8e04-4371169405b2",
   "metadata": {},
   "outputs": [],
   "source": [
    "dispatcher = Dispatcher(100000, default_prices=start_prices)\n",
    "dispatcher.backtest_algotrader(df_45_by_10min, NEWS_DATA)"
   ]
  },
  {
   "cell_type": "code",
   "execution_count": 61,
   "id": "9ec1bd1f-7866-421b-8d51-55a4830fa2a4",
   "metadata": {},
   "outputs": [],
   "source": [
    "import datetime"
   ]
  },
  {
   "cell_type": "code",
   "execution_count": 62,
   "id": "95f69cd2-e7ff-48cb-95d0-dcb53e0eb4f0",
   "metadata": {},
   "outputs": [],
   "source": [
    "\n",
    "last_time = datetime.datetime.now()\n"
   ]
  },
  {
   "cell_type": "code",
   "execution_count": 65,
   "id": "95854bd8-b2ac-457c-8737-e229c1431ae5",
   "metadata": {},
   "outputs": [
    {
     "data": {
      "text/plain": [
       "datetime.timedelta(seconds=20, microseconds=570254)"
      ]
     },
     "execution_count": 65,
     "metadata": {},
     "output_type": "execute_result"
    }
   ],
   "source": [
    "(datetime.datetime.now() - last_time)"
   ]
  },
  {
   "cell_type": "code",
   "execution_count": 12,
   "id": "3ccf6769-8fc6-4e82-80f5-44830016b60b",
   "metadata": {},
   "outputs": [
    {
     "data": {
      "text/html": [
       "<div>\n",
       "<style scoped>\n",
       "    .dataframe tbody tr th:only-of-type {\n",
       "        vertical-align: middle;\n",
       "    }\n",
       "\n",
       "    .dataframe tbody tr th {\n",
       "        vertical-align: top;\n",
       "    }\n",
       "\n",
       "    .dataframe thead th {\n",
       "        text-align: right;\n",
       "    }\n",
       "</style>\n",
       "<table border=\"1\" class=\"dataframe\">\n",
       "  <thead>\n",
       "    <tr style=\"text-align: right;\">\n",
       "      <th></th>\n",
       "      <th>datetime</th>\n",
       "      <th>total_money</th>\n",
       "      <th>cash</th>\n",
       "    </tr>\n",
       "  </thead>\n",
       "  <tbody>\n",
       "    <tr>\n",
       "      <th>0</th>\n",
       "      <td>2023-10-02 18:10:00</td>\n",
       "      <td>9.999984e+08</td>\n",
       "      <td>142.0</td>\n",
       "    </tr>\n",
       "    <tr>\n",
       "      <th>1</th>\n",
       "      <td>2023-10-02 18:20:00</td>\n",
       "      <td>1.000022e+09</td>\n",
       "      <td>142.0</td>\n",
       "    </tr>\n",
       "    <tr>\n",
       "      <th>2</th>\n",
       "      <td>2023-10-02 18:30:00</td>\n",
       "      <td>9.997647e+08</td>\n",
       "      <td>142.0</td>\n",
       "    </tr>\n",
       "    <tr>\n",
       "      <th>3</th>\n",
       "      <td>2023-10-02 18:40:00</td>\n",
       "      <td>9.997647e+08</td>\n",
       "      <td>142.0</td>\n",
       "    </tr>\n",
       "    <tr>\n",
       "      <th>4</th>\n",
       "      <td>2023-10-02 19:00:00</td>\n",
       "      <td>9.999953e+08</td>\n",
       "      <td>142.0</td>\n",
       "    </tr>\n",
       "    <tr>\n",
       "      <th>...</th>\n",
       "      <td>...</td>\n",
       "      <td>...</td>\n",
       "      <td>...</td>\n",
       "    </tr>\n",
       "    <tr>\n",
       "      <th>129</th>\n",
       "      <td>2023-10-04 12:00:00</td>\n",
       "      <td>1.015681e+09</td>\n",
       "      <td>142.0</td>\n",
       "    </tr>\n",
       "    <tr>\n",
       "      <th>130</th>\n",
       "      <td>2023-10-04 12:10:00</td>\n",
       "      <td>1.016361e+09</td>\n",
       "      <td>142.0</td>\n",
       "    </tr>\n",
       "    <tr>\n",
       "      <th>131</th>\n",
       "      <td>2023-10-04 12:20:00</td>\n",
       "      <td>1.017003e+09</td>\n",
       "      <td>142.0</td>\n",
       "    </tr>\n",
       "    <tr>\n",
       "      <th>132</th>\n",
       "      <td>2023-10-04 12:30:00</td>\n",
       "      <td>1.016702e+09</td>\n",
       "      <td>142.0</td>\n",
       "    </tr>\n",
       "    <tr>\n",
       "      <th>133</th>\n",
       "      <td>2023-10-04 12:40:00</td>\n",
       "      <td>1.016855e+09</td>\n",
       "      <td>142.0</td>\n",
       "    </tr>\n",
       "  </tbody>\n",
       "</table>\n",
       "<p>134 rows × 3 columns</p>\n",
       "</div>"
      ],
      "text/plain": [
       "               datetime   total_money   cash\n",
       "0   2023-10-02 18:10:00  9.999984e+08  142.0\n",
       "1   2023-10-02 18:20:00  1.000022e+09  142.0\n",
       "2   2023-10-02 18:30:00  9.997647e+08  142.0\n",
       "3   2023-10-02 18:40:00  9.997647e+08  142.0\n",
       "4   2023-10-02 19:00:00  9.999953e+08  142.0\n",
       "..                  ...           ...    ...\n",
       "129 2023-10-04 12:00:00  1.015681e+09  142.0\n",
       "130 2023-10-04 12:10:00  1.016361e+09  142.0\n",
       "131 2023-10-04 12:20:00  1.017003e+09  142.0\n",
       "132 2023-10-04 12:30:00  1.016702e+09  142.0\n",
       "133 2023-10-04 12:40:00  1.016855e+09  142.0\n",
       "\n",
       "[134 rows x 3 columns]"
      ]
     },
     "execution_count": 12,
     "metadata": {},
     "output_type": "execute_result"
    }
   ],
   "source": [
    "test1"
   ]
  },
  {
   "cell_type": "code",
   "execution_count": 11,
   "id": "b46f6607-5d5c-46bb-b30f-b2e82e89ed40",
   "metadata": {},
   "outputs": [],
   "source": [
    "test1 = pd.read_csv('datasets_for_algotrader/test1.csv', parse_dates=['datetime'])"
   ]
  },
  {
   "cell_type": "code",
   "execution_count": 17,
   "id": "010d2e71-3ee2-4c4f-9cab-07cff6ecdd63",
   "metadata": {},
   "outputs": [
    {
     "data": {
      "text/plain": [
       "<Axes: xlabel='datetime'>"
      ]
     },
     "execution_count": 17,
     "metadata": {},
     "output_type": "execute_result"
    },
    {
     "data": {
      "image/png": "[encoded data removed]",
      "text/plain": [
       "<Figure size 640x480 with 1 Axes>"
      ]
     },
     "metadata": {},
     "output_type": "display_data"
    }
   ],
   "source": [
    "test1.plot(x='datetime')"
   ]
  },
  {
   "cell_type": "code",
   "execution_count": 54,
   "id": "0b40a42b-17e4-43f1-b275-05479f910b14",
   "metadata": {},
   "outputs": [
    {
     "data": {
      "application/vnd.plotly.v1+json": {
       "config": {
        "plotlyServerURL": "https://plot.ly"
       },
       "data": [
        {
         "hovertemplate": "datetime=%{x}<br>total_money=%{y}<extra></extra>",
         "legendgroup": "",
         "line": {
          "color": "#636efa",
          "dash": "solid"
         },
         "marker": {
          "symbol": "circle"
         },
         "mode": "lines",
         "name": "",
         "orientation": "v",
         "showlegend": false,
         "type": "scatter",
         "x": [
          "2023-10-02T18:10:00",
          "2023-10-02T18:20:00",
          "2023-10-02T18:30:00",
          "2023-10-02T18:40:00",
          "2023-10-02T19:00:00",
          "2023-10-02T19:10:00",
          "2023-10-02T19:20:00",
          "2023-10-02T19:30:00",
          "2023-10-02T19:40:00",
          "2023-10-02T19:50:00",
          "2023-10-02T20:00:00",
          "2023-10-02T20:10:00",
          "2023-10-02T20:20:00",
          "2023-10-02T20:30:00",
          "2023-10-02T20:40:00",
          "2023-10-02T20:50:00",
          "2023-10-02T21:00:00",
          "2023-10-02T21:10:00",
          "2023-10-02T21:20:00",
          "2023-10-02T21:30:00",
          "2023-10-02T21:40:00",
          "2023-10-02T21:50:00",
          "2023-10-02T22:00:00",
          "2023-10-02T22:10:00",
          "2023-10-02T22:20:00",
          "2023-10-02T22:30:00",
          "2023-10-02T22:40:00",
          "2023-10-02T22:50:00",
          "2023-10-02T23:00:00",
          "2023-10-02T23:10:00",
          "2023-10-02T23:20:00",
          "2023-10-02T23:30:00",
          "2023-10-02T23:40:00",
          "2023-10-03T09:50:00",
          "2023-10-03T10:00:00",
          "2023-10-03T10:10:00",
          "2023-10-03T10:20:00",
          "2023-10-03T10:30:00",
          "2023-10-03T10:40:00",
          "2023-10-03T10:50:00",
          "2023-10-03T11:00:00",
          "2023-10-03T11:10:00",
          "2023-10-03T11:20:00",
          "2023-10-03T11:30:00",
          "2023-10-03T11:40:00",
          "2023-10-03T11:50:00",
          "2023-10-03T12:00:00",
          "2023-10-03T12:10:00",
          "2023-10-03T12:20:00",
          "2023-10-03T12:30:00",
          "2023-10-03T12:40:00",
          "2023-10-03T12:50:00",
          "2023-10-03T13:00:00",
          "2023-10-03T13:10:00",
          "2023-10-03T13:20:00",
          "2023-10-03T13:30:00",
          "2023-10-03T13:40:00",
          "2023-10-03T13:50:00",
          "2023-10-03T14:00:00",
          "2023-10-03T14:10:00",
          "2023-10-03T14:20:00",
          "2023-10-03T14:30:00",
          "2023-10-03T14:40:00",
          "2023-10-03T14:50:00",
          "2023-10-03T15:00:00",
          "2023-10-03T15:10:00",
          "2023-10-03T15:20:00",
          "2023-10-03T15:30:00",
          "2023-10-03T15:40:00",
          "2023-10-03T15:50:00",
          "2023-10-03T16:00:00",
          "2023-10-03T16:10:00",
          "2023-10-03T16:20:00",
          "2023-10-03T16:30:00",
          "2023-10-03T16:40:00",
          "2023-10-03T16:50:00",
          "2023-10-03T17:00:00",
          "2023-10-03T17:10:00",
          "2023-10-03T17:20:00",
          "2023-10-03T17:30:00",
          "2023-10-03T17:40:00",
          "2023-10-03T17:50:00",
          "2023-10-03T18:00:00",
          "2023-10-03T18:10:00",
          "2023-10-03T18:20:00",
          "2023-10-03T18:30:00",
          "2023-10-03T18:40:00",
          "2023-10-03T19:00:00",
          "2023-10-03T19:10:00",
          "2023-10-03T19:20:00",
          "2023-10-03T19:30:00",
          "2023-10-03T19:40:00",
          "2023-10-03T19:50:00",
          "2023-10-03T20:00:00",
          "2023-10-03T20:10:00",
          "2023-10-03T20:20:00",
          "2023-10-03T20:30:00",
          "2023-10-03T20:40:00",
          "2023-10-03T20:50:00",
          "2023-10-03T21:00:00",
          "2023-10-03T21:10:00",
          "2023-10-03T21:20:00",
          "2023-10-03T21:30:00",
          "2023-10-03T21:40:00",
          "2023-10-03T21:50:00",
          "2023-10-03T22:00:00",
          "2023-10-03T22:10:00",
          "2023-10-03T22:20:00",
          "2023-10-03T22:30:00",
          "2023-10-03T22:40:00",
          "2023-10-03T22:50:00",
          "2023-10-03T23:00:00",
          "2023-10-03T23:10:00",
          "2023-10-03T23:20:00",
          "2023-10-03T23:30:00",
          "2023-10-03T23:40:00",
          "2023-10-04T09:50:00",
          "2023-10-04T10:00:00",
          "2023-10-04T10:10:00",
          "2023-10-04T10:20:00",
          "2023-10-04T10:30:00",
          "2023-10-04T10:40:00",
          "2023-10-04T10:50:00",
          "2023-10-04T11:00:00",
          "2023-10-04T11:10:00",
          "2023-10-04T11:20:00",
          "2023-10-04T11:30:00",
          "2023-10-04T11:40:00",
          "2023-10-04T11:50:00",
          "2023-10-04T12:00:00",
          "2023-10-04T12:10:00",
          "2023-10-04T12:20:00",
          "2023-10-04T12:30:00",
          "2023-10-04T12:40:00"
         ],
         "xaxis": "x",
         "y": [
          999998400,
          1000022400,
          999764672,
          999764672,
          999995264,
          999995264,
          999995264,
          999995264,
          999995264,
          999995264,
          999995264,
          999995264,
          999995264,
          999995264,
          999995264,
          999995264,
          999995264,
          999995264,
          999995264,
          999995264,
          999995264,
          999995264,
          999995264,
          999995264,
          999995264,
          999995264,
          999995264,
          999995264,
          999995264,
          999995264,
          999995264,
          999995264,
          999995264,
          999995264,
          999995264,
          999995264,
          1000379584,
          998994432,
          997867136,
          998984064,
          998678784,
          1000547456,
          1000547456,
          1000939072,
          1001074880,
          999805312,
          1000442944,
          1001279616,
          1001893120,
          1000412032,
          1001331776,
          1001435072,
          1000181056,
          1000056896,
          998625344,
          998780352,
          998516608,
          999799552,
          999048384,
          997808256,
          998267136,
          998760576,
          1000267392,
          1000864064,
          1000708672,
          1001225728,
          1001077952,
          1000301376,
          1001846272,
          1002260800,
          1002202944,
          1002501632,
          1002192128,
          1003642304,
          1006492160,
          1006476160,
          1006495872,
          1006667776,
          1006228480,
          1004039872,
          1005003712,
          1005234496,
          1005827584,
          1008921728,
          1009392640,
          1009907392,
          1010088576,
          1009580224,
          1009580224,
          1009580224,
          1009580224,
          1009580224,
          1009580224,
          1009580224,
          1009580224,
          1009580224,
          1009580224,
          1009580224,
          1009580224,
          1009580224,
          1009580224,
          1009580224,
          1009580224,
          1009580224,
          1009580224,
          1009580224,
          1009580224,
          1009580224,
          1009580224,
          1009580224,
          1009580224,
          1009580224,
          1009580224,
          1009580224,
          1009580224,
          1009580224,
          1009580224,
          1009580224,
          1014297344,
          1013024320,
          1013499840,
          1015840320,
          1016541056,
          1017300352,
          1017859840,
          1016046400,
          1016040064,
          1016642752,
          1016413888,
          1015681024,
          1016361280,
          1017002880,
          1016702016,
          1016854528
         ],
         "yaxis": "y"
        }
       ],
       "layout": {
        "autosize": true,
        "legend": {
         "tracegroupgap": 0
        },
        "margin": {
         "t": 60
        },
        "template": {
         "data": {
          "bar": [
           {
            "error_x": {
             "color": "#2a3f5f"
            },
            "error_y": {
             "color": "#2a3f5f"
            },
            "marker": {
             "line": {
              "color": "#E5ECF6",
              "width": 0.5
             },
             "pattern": {
              "fillmode": "overlay",
              "size": 10,
              "solidity": 0.2
             }
            },
            "type": "bar"
           }
          ],
          "barpolar": [
           {
            "marker": {
             "line": {
              "color": "#E5ECF6",
              "width": 0.5
             },
             "pattern": {
              "fillmode": "overlay",
              "size": 10,
              "solidity": 0.2
             }
            },
            "type": "barpolar"
           }
          ],
          "carpet": [
           {
            "aaxis": {
             "endlinecolor": "#2a3f5f",
             "gridcolor": "white",
             "linecolor": "white",
             "minorgridcolor": "white",
             "startlinecolor": "#2a3f5f"
            },
            "baxis": {
             "endlinecolor": "#2a3f5f",
             "gridcolor": "white",
             "linecolor": "white",
             "minorgridcolor": "white",
             "startlinecolor": "#2a3f5f"
            },
            "type": "carpet"
           }
          ],
          "choropleth": [
           {
            "colorbar": {
             "outlinewidth": 0,
             "ticks": ""
            },
            "type": "choropleth"
           }
          ],
          "contour": [
           {
            "colorbar": {
             "outlinewidth": 0,
             "ticks": ""
            },
            "colorscale": [
             [
              0,
              "#0d0887"
             ],
             [
              0.1111111111111111,
              "#46039f"
             ],
             [
              0.2222222222222222,
              "#7201a8"
             ],
             [
              0.3333333333333333,
              "#9c179e"
             ],
             [
              0.4444444444444444,
              "#bd3786"
             ],
             [
              0.5555555555555556,
              "#d8576b"
             ],
             [
              0.6666666666666666,
              "#ed7953"
             ],
             [
              0.7777777777777778,
              "#fb9f3a"
             ],
             [
              0.8888888888888888,
              "#fdca26"
             ],
             [
              1,
              "#f0f921"
             ]
            ],
            "type": "contour"
           }
          ],
          "contourcarpet": [
           {
            "colorbar": {
             "outlinewidth": 0,
             "ticks": ""
            },
            "type": "contourcarpet"
           }
          ],
          "heatmap": [
           {
            "colorbar": {
             "outlinewidth": 0,
             "ticks": ""
            },
            "colorscale": [
             [
              0,
              "#0d0887"
             ],
             [
              0.1111111111111111,
              "#46039f"
             ],
             [
              0.2222222222222222,
              "#7201a8"
             ],
             [
              0.3333333333333333,
              "#9c179e"
             ],
             [
              0.4444444444444444,
              "#bd3786"
             ],
             [
              0.5555555555555556,
              "#d8576b"
             ],
             [
              0.6666666666666666,
              "#ed7953"
             ],
             [
              0.7777777777777778,
              "#fb9f3a"
             ],
             [
              0.8888888888888888,
              "#fdca26"
             ],
             [
              1,
              "#f0f921"
             ]
            ],
            "type": "heatmap"
           }
          ],
          "heatmapgl": [
           {
            "colorbar": {
             "outlinewidth": 0,
             "ticks": ""
            },
            "colorscale": [
             [
              0,
              "#0d0887"
             ],
             [
              0.1111111111111111,
              "#46039f"
             ],
             [
              0.2222222222222222,
              "#7201a8"
             ],
             [
              0.3333333333333333,
              "#9c179e"
             ],
             [
              0.4444444444444444,
              "#bd3786"
             ],
             [
              0.5555555555555556,
              "#d8576b"
             ],
             [
              0.6666666666666666,
              "#ed7953"
             ],
             [
              0.7777777777777778,
              "#fb9f3a"
             ],
             [
              0.8888888888888888,
              "#fdca26"
             ],
             [
              1,
              "#f0f921"
             ]
            ],
            "type": "heatmapgl"
           }
          ],
          "histogram": [
           {
            "marker": {
             "pattern": {
              "fillmode": "overlay",
              "size": 10,
              "solidity": 0.2
             }
            },
            "type": "histogram"
           }
          ],
          "histogram2d": [
           {
            "colorbar": {
             "outlinewidth": 0,
             "ticks": ""
            },
            "colorscale": [
             [
              0,
              "#0d0887"
             ],
             [
              0.1111111111111111,
              "#46039f"
             ],
             [
              0.2222222222222222,
              "#7201a8"
             ],
             [
              0.3333333333333333,
              "#9c179e"
             ],
             [
              0.4444444444444444,
              "#bd3786"
             ],
             [
              0.5555555555555556,
              "#d8576b"
             ],
             [
              0.6666666666666666,
              "#ed7953"
             ],
             [
              0.7777777777777778,
              "#fb9f3a"
             ],
             [
              0.8888888888888888,
              "#fdca26"
             ],
             [
              1,
              "#f0f921"
             ]
            ],
            "type": "histogram2d"
           }
          ],
          "histogram2dcontour": [
           {
            "colorbar": {
             "outlinewidth": 0,
             "ticks": ""
            },
            "colorscale": [
             [
              0,
              "#0d0887"
             ],
             [
              0.1111111111111111,
              "#46039f"
             ],
             [
              0.2222222222222222,
              "#7201a8"
             ],
             [
              0.3333333333333333,
              "#9c179e"
             ],
             [
              0.4444444444444444,
              "#bd3786"
             ],
             [
              0.5555555555555556,
              "#d8576b"
             ],
             [
              0.6666666666666666,
              "#ed7953"
             ],
             [
              0.7777777777777778,
              "#fb9f3a"
             ],
             [
              0.8888888888888888,
              "#fdca26"
             ],
             [
              1,
              "#f0f921"
             ]
            ],
            "type": "histogram2dcontour"
           }
          ],
          "mesh3d": [
           {
            "colorbar": {
             "outlinewidth": 0,
             "ticks": ""
            },
            "type": "mesh3d"
           }
          ],
          "parcoords": [
           {
            "line": {
             "colorbar": {
              "outlinewidth": 0,
              "ticks": ""
             }
            },
            "type": "parcoords"
           }
          ],
          "pie": [
           {
            "automargin": true,
            "type": "pie"
           }
          ],
          "scatter": [
           {
            "fillpattern": {
             "fillmode": "overlay",
             "size": 10,
             "solidity": 0.2
            },
            "type": "scatter"
           }
          ],
          "scatter3d": [
           {
            "line": {
             "colorbar": {
              "outlinewidth": 0,
              "ticks": ""
             }
            },
            "marker": {
             "colorbar": {
              "outlinewidth": 0,
              "ticks": ""
             }
            },
            "type": "scatter3d"
           }
          ],
          "scattercarpet": [
           {
            "marker": {
             "colorbar": {
              "outlinewidth": 0,
              "ticks": ""
             }
            },
            "type": "scattercarpet"
           }
          ],
          "scattergeo": [
           {
            "marker": {
             "colorbar": {
              "outlinewidth": 0,
              "ticks": ""
             }
            },
            "type": "scattergeo"
           }
          ],
          "scattergl": [
           {
            "marker": {
             "colorbar": {
              "outlinewidth": 0,
              "ticks": ""
             }
            },
            "type": "scattergl"
           }
          ],
          "scattermapbox": [
           {
            "marker": {
             "colorbar": {
              "outlinewidth": 0,
              "ticks": ""
             }
            },
            "type": "scattermapbox"
           }
          ],
          "scatterpolar": [
           {
            "marker": {
             "colorbar": {
              "outlinewidth": 0,
              "ticks": ""
             }
            },
            "type": "scatterpolar"
           }
          ],
          "scatterpolargl": [
           {
            "marker": {
             "colorbar": {
              "outlinewidth": 0,
              "ticks": ""
             }
            },
            "type": "scatterpolargl"
           }
          ],
          "scatterternary": [
           {
            "marker": {
             "colorbar": {
              "outlinewidth": 0,
              "ticks": ""
             }
            },
            "type": "scatterternary"
           }
          ],
          "surface": [
           {
            "colorbar": {
             "outlinewidth": 0,
             "ticks": ""
            },
            "colorscale": [
             [
              0,
              "#0d0887"
             ],
             [
              0.1111111111111111,
              "#46039f"
             ],
             [
              0.2222222222222222,
              "#7201a8"
             ],
             [
              0.3333333333333333,
              "#9c179e"
             ],
             [
              0.4444444444444444,
              "#bd3786"
             ],
             [
              0.5555555555555556,
              "#d8576b"
             ],
             [
              0.6666666666666666,
              "#ed7953"
             ],
             [
              0.7777777777777778,
              "#fb9f3a"
             ],
             [
              0.8888888888888888,
              "#fdca26"
             ],
             [
              1,
              "#f0f921"
             ]
            ],
            "type": "surface"
           }
          ],
          "table": [
           {
            "cells": {
             "fill": {
              "color": "#EBF0F8"
             },
             "line": {
              "color": "white"
             }
            },
            "header": {
             "fill": {
              "color": "#C8D4E3"
             },
             "line": {
              "color": "white"
             }
            },
            "type": "table"
           }
          ]
         },
         "layout": {
          "annotationdefaults": {
           "arrowcolor": "#2a3f5f",
           "arrowhead": 0,
           "arrowwidth": 1
          },
          "autotypenumbers": "strict",
          "coloraxis": {
           "colorbar": {
            "outlinewidth": 0,
            "ticks": ""
           }
          },
          "colorscale": {
           "diverging": [
            [
             0,
             "#8e0152"
            ],
            [
             0.1,
             "#c51b7d"
            ],
            [
             0.2,
             "#de77ae"
            ],
            [
             0.3,
             "#f1b6da"
            ],
            [
             0.4,
             "#fde0ef"
            ],
            [
             0.5,
             "#f7f7f7"
            ],
            [
             0.6,
             "#e6f5d0"
            ],
            [
             0.7,
             "#b8e186"
            ],
            [
             0.8,
             "#7fbc41"
            ],
            [
             0.9,
             "#4d9221"
            ],
            [
             1,
             "#276419"
            ]
           ],
           "sequential": [
            [
             0,
             "#0d0887"
            ],
            [
             0.1111111111111111,
             "#46039f"
            ],
            [
             0.2222222222222222,
             "#7201a8"
            ],
            [
             0.3333333333333333,
             "#9c179e"
            ],
            [
             0.4444444444444444,
             "#bd3786"
            ],
            [
             0.5555555555555556,
             "#d8576b"
            ],
            [
             0.6666666666666666,
             "#ed7953"
            ],
            [
             0.7777777777777778,
             "#fb9f3a"
            ],
            [
             0.8888888888888888,
             "#fdca26"
            ],
            [
             1,
             "#f0f921"
            ]
           ],
           "sequentialminus": [
            [
             0,
             "#0d0887"
            ],
            [
             0.1111111111111111,
             "#46039f"
            ],
            [
             0.2222222222222222,
             "#7201a8"
            ],
            [
             0.3333333333333333,
             "#9c179e"
            ],
            [
             0.4444444444444444,
             "#bd3786"
            ],
            [
             0.5555555555555556,
             "#d8576b"
            ],
            [
             0.6666666666666666,
             "#ed7953"
            ],
            [
             0.7777777777777778,
             "#fb9f3a"
            ],
            [
             0.8888888888888888,
             "#fdca26"
            ],
            [
             1,
             "#f0f921"
            ]
           ]
          },
          "colorway": [
           "#636efa",
           "#EF553B",
           "#00cc96",
           "#ab63fa",
           "#FFA15A",
           "#19d3f3",
           "#FF6692",
           "#B6E880",
           "#FF97FF",
           "#FECB52"
          ],
          "font": {
           "color": "#2a3f5f"
          },
          "geo": {
           "bgcolor": "white",
           "lakecolor": "white",
           "landcolor": "#E5ECF6",
           "showlakes": true,
           "showland": true,
           "subunitcolor": "white"
          },
          "hoverlabel": {
           "align": "left"
          },
          "hovermode": "closest",
          "mapbox": {
           "style": "light"
          },
          "paper_bgcolor": "white",
          "plot_bgcolor": "#E5ECF6",
          "polar": {
           "angularaxis": {
            "gridcolor": "white",
            "linecolor": "white",
            "ticks": ""
           },
           "bgcolor": "#E5ECF6",
           "radialaxis": {
            "gridcolor": "white",
            "linecolor": "white",
            "ticks": ""
           }
          },
          "scene": {
           "xaxis": {
            "backgroundcolor": "#E5ECF6",
            "gridcolor": "white",
            "gridwidth": 2,
            "linecolor": "white",
            "showbackground": true,
            "ticks": "",
            "zerolinecolor": "white"
           },
           "yaxis": {
            "backgroundcolor": "#E5ECF6",
            "gridcolor": "white",
            "gridwidth": 2,
            "linecolor": "white",
            "showbackground": true,
            "ticks": "",
            "zerolinecolor": "white"
           },
           "zaxis": {
            "backgroundcolor": "#E5ECF6",
            "gridcolor": "white",
            "gridwidth": 2,
            "linecolor": "white",
            "showbackground": true,
            "ticks": "",
            "zerolinecolor": "white"
           }
          },
          "shapedefaults": {
           "line": {
            "color": "#2a3f5f"
           }
          },
          "ternary": {
           "aaxis": {
            "gridcolor": "white",
            "linecolor": "white",
            "ticks": ""
           },
           "baxis": {
            "gridcolor": "white",
            "linecolor": "white",
            "ticks": ""
           },
           "bgcolor": "#E5ECF6",
           "caxis": {
            "gridcolor": "white",
            "linecolor": "white",
            "ticks": ""
           }
          },
          "title": {
           "x": 0.05
          },
          "xaxis": {
           "automargin": true,
           "gridcolor": "white",
           "linecolor": "white",
           "ticks": "",
           "title": {
            "standoff": 15
           },
           "zerolinecolor": "white",
           "zerolinewidth": 2
          },
          "yaxis": {
           "automargin": true,
           "gridcolor": "white",
           "linecolor": "white",
           "ticks": "",
           "title": {
            "standoff": 15
           },
           "zerolinecolor": "white",
           "zerolinewidth": 2
          }
         }
        },
        "xaxis": {
         "anchor": "y",
         "autorange": true,
         "domain": [
          0,
          1
         ],
         "range": [
          "2023-10-02 18:10",
          "2023-10-04 12:40"
         ],
         "title": {
          "text": "datetime"
         },
         "type": "date"
        },
        "yaxis": {
         "anchor": "x",
         "autorange": true,
         "domain": [
          0,
          1
         ],
         "range": [
          996694279.1111112,
          1018973816.8888888
         ],
         "title": {
          "text": "total_money"
         },
         "type": "linear"
        }
       }
      },
      "image/png": "[encoded data removed]",
      "text/html": [
       "<div>                            <div id=\"21066fa4-29a5-4b51-9297-df5d98cc5586\" class=\"plotly-graph-div\" style=\"height:525px; width:100%;\"></div>            <script type=\"text/javascript\">                require([\"plotly\"], function(Plotly) {                    window.PLOTLYENV=window.PLOTLYENV || {};                                    if (document.getElementById(\"21066fa4-29a5-4b51-9297-df5d98cc5586\")) {                    Plotly.newPlot(                        \"21066fa4-29a5-4b51-9297-df5d98cc5586\",                        [{\"hovertemplate\":\"datetime=%{x}\\u003cbr\\u003etotal_money=%{y}\\u003cextra\\u003e\\u003c\\u002fextra\\u003e\",\"legendgroup\":\"\",\"line\":{\"color\":\"#636efa\",\"dash\":\"solid\"},\"marker\":{\"symbol\":\"circle\"},\"mode\":\"lines\",\"name\":\"\",\"orientation\":\"v\",\"showlegend\":false,\"x\":[\"2023-10-02T18:10:00\",\"2023-10-02T18:20:00\",\"2023-10-02T18:30:00\",\"2023-10-02T18:40:00\",\"2023-10-02T19:00:00\",\"2023-10-02T19:10:00\",\"2023-10-02T19:20:00\",\"2023-10-02T19:30:00\",\"2023-10-02T19:40:00\",\"2023-10-02T19:50:00\",\"2023-10-02T20:00:00\",\"2023-10-02T20:10:00\",\"2023-10-02T20:20:00\",\"2023-10-02T20:30:00\",\"2023-10-02T20:40:00\",\"2023-10-02T20:50:00\",\"2023-10-02T21:00:00\",\"2023-10-02T21:10:00\",\"2023-10-02T21:20:00\",\"2023-10-02T21:30:00\",\"2023-10-02T21:40:00\",\"2023-10-02T21:50:00\",\"2023-10-02T22:00:00\",\"2023-10-02T22:10:00\",\"2023-10-02T22:20:00\",\"2023-10-02T22:30:00\",\"2023-10-02T22:40:00\",\"2023-10-02T22:50:00\",\"2023-10-02T23:00:00\",\"2023-10-02T23:10:00\",\"2023-10-02T23:20:00\",\"2023-10-02T23:30:00\",\"2023-10-02T23:40:00\",\"2023-10-03T09:50:00\",\"2023-10-03T10:00:00\",\"2023-10-03T10:10:00\",\"2023-10-03T10:20:00\",\"2023-10-03T10:30:00\",\"2023-10-03T10:40:00\",\"2023-10-03T10:50:00\",\"2023-10-03T11:00:00\",\"2023-10-03T11:10:00\",\"2023-10-03T11:20:00\",\"2023-10-03T11:30:00\",\"2023-10-03T11:40:00\",\"2023-10-03T11:50:00\",\"2023-10-03T12:00:00\",\"2023-10-03T12:10:00\",\"2023-10-03T12:20:00\",\"2023-10-03T12:30:00\",\"2023-10-03T12:40:00\",\"2023-10-03T12:50:00\",\"2023-10-03T13:00:00\",\"2023-10-03T13:10:00\",\"2023-10-03T13:20:00\",\"2023-10-03T13:30:00\",\"2023-10-03T13:40:00\",\"2023-10-03T13:50:00\",\"2023-10-03T14:00:00\",\"2023-10-03T14:10:00\",\"2023-10-03T14:20:00\",\"2023-10-03T14:30:00\",\"2023-10-03T14:40:00\",\"2023-10-03T14:50:00\",\"2023-10-03T15:00:00\",\"2023-10-03T15:10:00\",\"2023-10-03T15:20:00\",\"2023-10-03T15:30:00\",\"2023-10-03T15:40:00\",\"2023-10-03T15:50:00\",\"2023-10-03T16:00:00\",\"2023-10-03T16:10:00\",\"2023-10-03T16:20:00\",\"2023-10-03T16:30:00\",\"2023-10-03T16:40:00\",\"2023-10-03T16:50:00\",\"2023-10-03T17:00:00\",\"2023-10-03T17:10:00\",\"2023-10-03T17:20:00\",\"2023-10-03T17:30:00\",\"2023-10-03T17:40:00\",\"2023-10-03T17:50:00\",\"2023-10-03T18:00:00\",\"2023-10-03T18:10:00\",\"2023-10-03T18:20:00\",\"2023-10-03T18:30:00\",\"2023-10-03T18:40:00\",\"2023-10-03T19:00:00\",\"2023-10-03T19:10:00\",\"2023-10-03T19:20:00\",\"2023-10-03T19:30:00\",\"2023-10-03T19:40:00\",\"2023-10-03T19:50:00\",\"2023-10-03T20:00:00\",\"2023-10-03T20:10:00\",\"2023-10-03T20:20:00\",\"2023-10-03T20:30:00\",\"2023-10-03T20:40:00\",\"2023-10-03T20:50:00\",\"2023-10-03T21:00:00\",\"2023-10-03T21:10:00\",\"2023-10-03T21:20:00\",\"2023-10-03T21:30:00\",\"2023-10-03T21:40:00\",\"2023-10-03T21:50:00\",\"2023-10-03T22:00:00\",\"2023-10-03T22:10:00\",\"2023-10-03T22:20:00\",\"2023-10-03T22:30:00\",\"2023-10-03T22:40:00\",\"2023-10-03T22:50:00\",\"2023-10-03T23:00:00\",\"2023-10-03T23:10:00\",\"2023-10-03T23:20:00\",\"2023-10-03T23:30:00\",\"2023-10-03T23:40:00\",\"2023-10-04T09:50:00\",\"2023-10-04T10:00:00\",\"2023-10-04T10:10:00\",\"2023-10-04T10:20:00\",\"2023-10-04T10:30:00\",\"2023-10-04T10:40:00\",\"2023-10-04T10:50:00\",\"2023-10-04T11:00:00\",\"2023-10-04T11:10:00\",\"2023-10-04T11:20:00\",\"2023-10-04T11:30:00\",\"2023-10-04T11:40:00\",\"2023-10-04T11:50:00\",\"2023-10-04T12:00:00\",\"2023-10-04T12:10:00\",\"2023-10-04T12:20:00\",\"2023-10-04T12:30:00\",\"2023-10-04T12:40:00\"],\"xaxis\":\"x\",\"y\":[999998400.0,1000022400.0,999764672.0,999764672.0,999995264.0,999995264.0,999995264.0,999995264.0,999995264.0,999995264.0,999995264.0,999995264.0,999995264.0,999995264.0,999995264.0,999995264.0,999995264.0,999995264.0,999995264.0,999995264.0,999995264.0,999995264.0,999995264.0,999995264.0,999995264.0,999995264.0,999995264.0,999995264.0,999995264.0,999995264.0,999995264.0,999995264.0,999995264.0,999995264.0,999995264.0,999995264.0,1000379584.0,998994432.0,997867136.0,998984064.0,998678784.0,1000547456.0,1000547456.0,1000939072.0,1001074880.0,999805312.0,1000442944.0,1001279616.0,1001893120.0,1000412032.0,1001331776.0,1001435072.0,1000181056.0,1000056896.0,998625344.0,998780352.0,998516608.0,999799552.0,999048384.0,997808256.0,998267136.0,998760576.0,1000267392.0,1000864064.0,1000708672.0,1001225728.0,1001077952.0,1000301376.0,1001846272.0,1002260800.0,1002202944.0,1002501632.0,1002192128.0,1003642304.0,1006492160.0,1006476160.0,1006495872.0,1006667776.0,1006228480.0,1004039872.0,1005003712.0,1005234496.0,1005827584.0,1008921728.0,1009392640.0,1009907392.0,1010088576.0,1009580224.0,1009580224.0,1009580224.0,1009580224.0,1009580224.0,1009580224.0,1009580224.0,1009580224.0,1009580224.0,1009580224.0,1009580224.0,1009580224.0,1009580224.0,1009580224.0,1009580224.0,1009580224.0,1009580224.0,1009580224.0,1009580224.0,1009580224.0,1009580224.0,1009580224.0,1009580224.0,1009580224.0,1009580224.0,1009580224.0,1009580224.0,1009580224.0,1009580224.0,1009580224.0,1009580224.0,1014297344.0,1013024320.0,1013499840.0,1015840320.0,1016541056.0,1017300352.0,1017859840.0,1016046400.0,1016040064.0,1016642752.0,1016413888.0,1015681024.0,1016361280.0,1017002880.0,1016702016.0,1016854528.0],\"yaxis\":\"y\",\"type\":\"scatter\"}],                        {\"template\":{\"data\":{\"histogram2dcontour\":[{\"type\":\"histogram2dcontour\",\"colorbar\":{\"outlinewidth\":0,\"ticks\":\"\"},\"colorscale\":[[0.0,\"#0d0887\"],[0.1111111111111111,\"#46039f\"],[0.2222222222222222,\"#7201a8\"],[0.3333333333333333,\"#9c179e\"],[0.4444444444444444,\"#bd3786\"],[0.5555555555555556,\"#d8576b\"],[0.6666666666666666,\"#ed7953\"],[0.7777777777777778,\"#fb9f3a\"],[0.8888888888888888,\"#fdca26\"],[1.0,\"#f0f921\"]]}],\"choropleth\":[{\"type\":\"choropleth\",\"colorbar\":{\"outlinewidth\":0,\"ticks\":\"\"}}],\"histogram2d\":[{\"type\":\"histogram2d\",\"colorbar\":{\"outlinewidth\":0,\"ticks\":\"\"},\"colorscale\":[[0.0,\"#0d0887\"],[0.1111111111111111,\"#46039f\"],[0.2222222222222222,\"#7201a8\"],[0.3333333333333333,\"#9c179e\"],[0.4444444444444444,\"#bd3786\"],[0.5555555555555556,\"#d8576b\"],[0.6666666666666666,\"#ed7953\"],[0.7777777777777778,\"#fb9f3a\"],[0.8888888888888888,\"#fdca26\"],[1.0,\"#f0f921\"]]}],\"heatmap\":[{\"type\":\"heatmap\",\"colorbar\":{\"outlinewidth\":0,\"ticks\":\"\"},\"colorscale\":[[0.0,\"#0d0887\"],[0.1111111111111111,\"#46039f\"],[0.2222222222222222,\"#7201a8\"],[0.3333333333333333,\"#9c179e\"],[0.4444444444444444,\"#bd3786\"],[0.5555555555555556,\"#d8576b\"],[0.6666666666666666,\"#ed7953\"],[0.7777777777777778,\"#fb9f3a\"],[0.8888888888888888,\"#fdca26\"],[1.0,\"#f0f921\"]]}],\"heatmapgl\":[{\"type\":\"heatmapgl\",\"colorbar\":{\"outlinewidth\":0,\"ticks\":\"\"},\"colorscale\":[[0.0,\"#0d0887\"],[0.1111111111111111,\"#46039f\"],[0.2222222222222222,\"#7201a8\"],[0.3333333333333333,\"#9c179e\"],[0.4444444444444444,\"#bd3786\"],[0.5555555555555556,\"#d8576b\"],[0.6666666666666666,\"#ed7953\"],[0.7777777777777778,\"#fb9f3a\"],[0.8888888888888888,\"#fdca26\"],[1.0,\"#f0f921\"]]}],\"contourcarpet\":[{\"type\":\"contourcarpet\",\"colorbar\":{\"outlinewidth\":0,\"ticks\":\"\"}}],\"contour\":[{\"type\":\"contour\",\"colorbar\":{\"outlinewidth\":0,\"ticks\":\"\"},\"colorscale\":[[0.0,\"#0d0887\"],[0.1111111111111111,\"#46039f\"],[0.2222222222222222,\"#7201a8\"],[0.3333333333333333,\"#9c179e\"],[0.4444444444444444,\"#bd3786\"],[0.5555555555555556,\"#d8576b\"],[0.6666666666666666,\"#ed7953\"],[0.7777777777777778,\"#fb9f3a\"],[0.8888888888888888,\"#fdca26\"],[1.0,\"#f0f921\"]]}],\"surface\":[{\"type\":\"surface\",\"colorbar\":{\"outlinewidth\":0,\"ticks\":\"\"},\"colorscale\":[[0.0,\"#0d0887\"],[0.1111111111111111,\"#46039f\"],[0.2222222222222222,\"#7201a8\"],[0.3333333333333333,\"#9c179e\"],[0.4444444444444444,\"#bd3786\"],[0.5555555555555556,\"#d8576b\"],[0.6666666666666666,\"#ed7953\"],[0.7777777777777778,\"#fb9f3a\"],[0.8888888888888888,\"#fdca26\"],[1.0,\"#f0f921\"]]}],\"mesh3d\":[{\"type\":\"mesh3d\",\"colorbar\":{\"outlinewidth\":0,\"ticks\":\"\"}}],\"scatter\":[{\"fillpattern\":{\"fillmode\":\"overlay\",\"size\":10,\"solidity\":0.2},\"type\":\"scatter\"}],\"parcoords\":[{\"type\":\"parcoords\",\"line\":{\"colorbar\":{\"outlinewidth\":0,\"ticks\":\"\"}}}],\"scatterpolargl\":[{\"type\":\"scatterpolargl\",\"marker\":{\"colorbar\":{\"outlinewidth\":0,\"ticks\":\"\"}}}],\"bar\":[{\"error_x\":{\"color\":\"#2a3f5f\"},\"error_y\":{\"color\":\"#2a3f5f\"},\"marker\":{\"line\":{\"color\":\"#E5ECF6\",\"width\":0.5},\"pattern\":{\"fillmode\":\"overlay\",\"size\":10,\"solidity\":0.2}},\"type\":\"bar\"}],\"scattergeo\":[{\"type\":\"scattergeo\",\"marker\":{\"colorbar\":{\"outlinewidth\":0,\"ticks\":\"\"}}}],\"scatterpolar\":[{\"type\":\"scatterpolar\",\"marker\":{\"colorbar\":{\"outlinewidth\":0,\"ticks\":\"\"}}}],\"histogram\":[{\"marker\":{\"pattern\":{\"fillmode\":\"overlay\",\"size\":10,\"solidity\":0.2}},\"type\":\"histogram\"}],\"scattergl\":[{\"type\":\"scattergl\",\"marker\":{\"colorbar\":{\"outlinewidth\":0,\"ticks\":\"\"}}}],\"scatter3d\":[{\"type\":\"scatter3d\",\"line\":{\"colorbar\":{\"outlinewidth\":0,\"ticks\":\"\"}},\"marker\":{\"colorbar\":{\"outlinewidth\":0,\"ticks\":\"\"}}}],\"scattermapbox\":[{\"type\":\"scattermapbox\",\"marker\":{\"colorbar\":{\"outlinewidth\":0,\"ticks\":\"\"}}}],\"scatterternary\":[{\"type\":\"scatterternary\",\"marker\":{\"colorbar\":{\"outlinewidth\":0,\"ticks\":\"\"}}}],\"scattercarpet\":[{\"type\":\"scattercarpet\",\"marker\":{\"colorbar\":{\"outlinewidth\":0,\"ticks\":\"\"}}}],\"carpet\":[{\"aaxis\":{\"endlinecolor\":\"#2a3f5f\",\"gridcolor\":\"white\",\"linecolor\":\"white\",\"minorgridcolor\":\"white\",\"startlinecolor\":\"#2a3f5f\"},\"baxis\":{\"endlinecolor\":\"#2a3f5f\",\"gridcolor\":\"white\",\"linecolor\":\"white\",\"minorgridcolor\":\"white\",\"startlinecolor\":\"#2a3f5f\"},\"type\":\"carpet\"}],\"table\":[{\"cells\":{\"fill\":{\"color\":\"#EBF0F8\"},\"line\":{\"color\":\"white\"}},\"header\":{\"fill\":{\"color\":\"#C8D4E3\"},\"line\":{\"color\":\"white\"}},\"type\":\"table\"}],\"barpolar\":[{\"marker\":{\"line\":{\"color\":\"#E5ECF6\",\"width\":0.5},\"pattern\":{\"fillmode\":\"overlay\",\"size\":10,\"solidity\":0.2}},\"type\":\"barpolar\"}],\"pie\":[{\"automargin\":true,\"type\":\"pie\"}]},\"layout\":{\"autotypenumbers\":\"strict\",\"colorway\":[\"#636efa\",\"#EF553B\",\"#00cc96\",\"#ab63fa\",\"#FFA15A\",\"#19d3f3\",\"#FF6692\",\"#B6E880\",\"#FF97FF\",\"#FECB52\"],\"font\":{\"color\":\"#2a3f5f\"},\"hovermode\":\"closest\",\"hoverlabel\":{\"align\":\"left\"},\"paper_bgcolor\":\"white\",\"plot_bgcolor\":\"#E5ECF6\",\"polar\":{\"bgcolor\":\"#E5ECF6\",\"angularaxis\":{\"gridcolor\":\"white\",\"linecolor\":\"white\",\"ticks\":\"\"},\"radialaxis\":{\"gridcolor\":\"white\",\"linecolor\":\"white\",\"ticks\":\"\"}},\"ternary\":{\"bgcolor\":\"#E5ECF6\",\"aaxis\":{\"gridcolor\":\"white\",\"linecolor\":\"white\",\"ticks\":\"\"},\"baxis\":{\"gridcolor\":\"white\",\"linecolor\":\"white\",\"ticks\":\"\"},\"caxis\":{\"gridcolor\":\"white\",\"linecolor\":\"white\",\"ticks\":\"\"}},\"coloraxis\":{\"colorbar\":{\"outlinewidth\":0,\"ticks\":\"\"}},\"colorscale\":{\"sequential\":[[0.0,\"#0d0887\"],[0.1111111111111111,\"#46039f\"],[0.2222222222222222,\"#7201a8\"],[0.3333333333333333,\"#9c179e\"],[0.4444444444444444,\"#bd3786\"],[0.5555555555555556,\"#d8576b\"],[0.6666666666666666,\"#ed7953\"],[0.7777777777777778,\"#fb9f3a\"],[0.8888888888888888,\"#fdca26\"],[1.0,\"#f0f921\"]],\"sequentialminus\":[[0.0,\"#0d0887\"],[0.1111111111111111,\"#46039f\"],[0.2222222222222222,\"#7201a8\"],[0.3333333333333333,\"#9c179e\"],[0.4444444444444444,\"#bd3786\"],[0.5555555555555556,\"#d8576b\"],[0.6666666666666666,\"#ed7953\"],[0.7777777777777778,\"#fb9f3a\"],[0.8888888888888888,\"#fdca26\"],[1.0,\"#f0f921\"]],\"diverging\":[[0,\"#8e0152\"],[0.1,\"#c51b7d\"],[0.2,\"#de77ae\"],[0.3,\"#f1b6da\"],[0.4,\"#fde0ef\"],[0.5,\"#f7f7f7\"],[0.6,\"#e6f5d0\"],[0.7,\"#b8e186\"],[0.8,\"#7fbc41\"],[0.9,\"#4d9221\"],[1,\"#276419\"]]},\"xaxis\":{\"gridcolor\":\"white\",\"linecolor\":\"white\",\"ticks\":\"\",\"title\":{\"standoff\":15},\"zerolinecolor\":\"white\",\"automargin\":true,\"zerolinewidth\":2},\"yaxis\":{\"gridcolor\":\"white\",\"linecolor\":\"white\",\"ticks\":\"\",\"title\":{\"standoff\":15},\"zerolinecolor\":\"white\",\"automargin\":true,\"zerolinewidth\":2},\"scene\":{\"xaxis\":{\"backgroundcolor\":\"#E5ECF6\",\"gridcolor\":\"white\",\"linecolor\":\"white\",\"showbackground\":true,\"ticks\":\"\",\"zerolinecolor\":\"white\",\"gridwidth\":2},\"yaxis\":{\"backgroundcolor\":\"#E5ECF6\",\"gridcolor\":\"white\",\"linecolor\":\"white\",\"showbackground\":true,\"ticks\":\"\",\"zerolinecolor\":\"white\",\"gridwidth\":2},\"zaxis\":{\"backgroundcolor\":\"#E5ECF6\",\"gridcolor\":\"white\",\"linecolor\":\"white\",\"showbackground\":true,\"ticks\":\"\",\"zerolinecolor\":\"white\",\"gridwidth\":2}},\"shapedefaults\":{\"line\":{\"color\":\"#2a3f5f\"}},\"annotationdefaults\":{\"arrowcolor\":\"#2a3f5f\",\"arrowhead\":0,\"arrowwidth\":1},\"geo\":{\"bgcolor\":\"white\",\"landcolor\":\"#E5ECF6\",\"subunitcolor\":\"white\",\"showland\":true,\"showlakes\":true,\"lakecolor\":\"white\"},\"title\":{\"x\":0.05},\"mapbox\":{\"style\":\"light\"}}},\"xaxis\":{\"anchor\":\"y\",\"domain\":[0.0,1.0],\"title\":{\"text\":\"datetime\"}},\"yaxis\":{\"anchor\":\"x\",\"domain\":[0.0,1.0],\"title\":{\"text\":\"total_money\"}},\"legend\":{\"tracegroupgap\":0},\"margin\":{\"t\":60}},                        {\"responsive\": true}                    ).then(function(){\n",
       "                            \n",
       "var gd = document.getElementById('21066fa4-29a5-4b51-9297-df5d98cc5586');\n",
       "var x = new MutationObserver(function (mutations, observer) {{\n",
       "        var display = window.getComputedStyle(gd).display;\n",
       "        if (!display || display === 'none') {{\n",
       "            console.log([gd, 'removed!']);\n",
       "            Plotly.purge(gd);\n",
       "            observer.disconnect();\n",
       "        }}\n",
       "}});\n",
       "\n",
       "// Listen for the removal of the full notebook cells\n",
       "var notebookContainer = gd.closest('#notebook-container');\n",
       "if (notebookContainer) {{\n",
       "    x.observe(notebookContainer, {childList: true});\n",
       "}}\n",
       "\n",
       "// Listen for the clearing of the current output cell\n",
       "var outputEl = gd.closest('.output');\n",
       "if (outputEl) {{\n",
       "    x.observe(outputEl, {childList: true});\n",
       "}}\n",
       "\n",
       "                        })                };                });            </script>        </div>"
      ]
     },
     "metadata": {},
     "output_type": "display_data"
    },
    {
     "data": {
      "application/vnd.plotly.v1+json": {
       "config": {
        "plotlyServerURL": "https://plot.ly"
       },
       "data": [
        {
         "hovertemplate": "datetime=%{x}<br>cash=%{y}<extra></extra>",
         "legendgroup": "",
         "line": {
          "color": "#636efa",
          "dash": "solid"
         },
         "marker": {
          "symbol": "circle"
         },
         "mode": "lines",
         "name": "",
         "orientation": "v",
         "showlegend": false,
         "type": "scatter",
         "x": [
          "2023-10-02T18:10:00",
          "2023-10-02T18:20:00",
          "2023-10-02T18:30:00",
          "2023-10-02T18:40:00",
          "2023-10-02T19:00:00",
          "2023-10-02T19:10:00",
          "2023-10-02T19:20:00",
          "2023-10-02T19:30:00",
          "2023-10-02T19:40:00",
          "2023-10-02T19:50:00",
          "2023-10-02T20:00:00",
          "2023-10-02T20:10:00",
          "2023-10-02T20:20:00",
          "2023-10-02T20:30:00",
          "2023-10-02T20:40:00",
          "2023-10-02T20:50:00",
          "2023-10-02T21:00:00",
          "2023-10-02T21:10:00",
          "2023-10-02T21:20:00",
          "2023-10-02T21:30:00",
          "2023-10-02T21:40:00",
          "2023-10-02T21:50:00",
          "2023-10-02T22:00:00",
          "2023-10-02T22:10:00",
          "2023-10-02T22:20:00",
          "2023-10-02T22:30:00",
          "2023-10-02T22:40:00",
          "2023-10-02T22:50:00",
          "2023-10-02T23:00:00",
          "2023-10-02T23:10:00",
          "2023-10-02T23:20:00",
          "2023-10-02T23:30:00",
          "2023-10-02T23:40:00",
          "2023-10-03T09:50:00",
          "2023-10-03T10:00:00",
          "2023-10-03T10:10:00",
          "2023-10-03T10:20:00",
          "2023-10-03T10:30:00",
          "2023-10-03T10:40:00",
          "2023-10-03T10:50:00",
          "2023-10-03T11:00:00",
          "2023-10-03T11:10:00",
          "2023-10-03T11:20:00",
          "2023-10-03T11:30:00",
          "2023-10-03T11:40:00",
          "2023-10-03T11:50:00",
          "2023-10-03T12:00:00",
          "2023-10-03T12:10:00",
          "2023-10-03T12:20:00",
          "2023-10-03T12:30:00",
          "2023-10-03T12:40:00",
          "2023-10-03T12:50:00",
          "2023-10-03T13:00:00",
          "2023-10-03T13:10:00",
          "2023-10-03T13:20:00",
          "2023-10-03T13:30:00",
          "2023-10-03T13:40:00",
          "2023-10-03T13:50:00",
          "2023-10-03T14:00:00",
          "2023-10-03T14:10:00",
          "2023-10-03T14:20:00",
          "2023-10-03T14:30:00",
          "2023-10-03T14:40:00",
          "2023-10-03T14:50:00",
          "2023-10-03T15:00:00",
          "2023-10-03T15:10:00",
          "2023-10-03T15:20:00",
          "2023-10-03T15:30:00",
          "2023-10-03T15:40:00",
          "2023-10-03T15:50:00",
          "2023-10-03T16:00:00",
          "2023-10-03T16:10:00",
          "2023-10-03T16:20:00",
          "2023-10-03T16:30:00",
          "2023-10-03T16:40:00",
          "2023-10-03T16:50:00",
          "2023-10-03T17:00:00",
          "2023-10-03T17:10:00",
          "2023-10-03T17:20:00",
          "2023-10-03T17:30:00",
          "2023-10-03T17:40:00",
          "2023-10-03T17:50:00",
          "2023-10-03T18:00:00",
          "2023-10-03T18:10:00",
          "2023-10-03T18:20:00",
          "2023-10-03T18:30:00",
          "2023-10-03T18:40:00",
          "2023-10-03T19:00:00",
          "2023-10-03T19:10:00",
          "2023-10-03T19:20:00",
          "2023-10-03T19:30:00",
          "2023-10-03T19:40:00",
          "2023-10-03T19:50:00",
          "2023-10-03T20:00:00",
          "2023-10-03T20:10:00",
          "2023-10-03T20:20:00",
          "2023-10-03T20:30:00",
          "2023-10-03T20:40:00",
          "2023-10-03T20:50:00",
          "2023-10-03T21:00:00",
          "2023-10-03T21:10:00",
          "2023-10-03T21:20:00",
          "2023-10-03T21:30:00",
          "2023-10-03T21:40:00",
          "2023-10-03T21:50:00",
          "2023-10-03T22:00:00",
          "2023-10-03T22:10:00",
          "2023-10-03T22:20:00",
          "2023-10-03T22:30:00",
          "2023-10-03T22:40:00",
          "2023-10-03T22:50:00",
          "2023-10-03T23:00:00",
          "2023-10-03T23:10:00",
          "2023-10-03T23:20:00",
          "2023-10-03T23:30:00",
          "2023-10-03T23:40:00",
          "2023-10-04T09:50:00",
          "2023-10-04T10:00:00",
          "2023-10-04T10:10:00",
          "2023-10-04T10:20:00",
          "2023-10-04T10:30:00",
          "2023-10-04T10:40:00",
          "2023-10-04T10:50:00",
          "2023-10-04T11:00:00",
          "2023-10-04T11:10:00",
          "2023-10-04T11:20:00",
          "2023-10-04T11:30:00",
          "2023-10-04T11:40:00",
          "2023-10-04T11:50:00",
          "2023-10-04T12:00:00",
          "2023-10-04T12:10:00",
          "2023-10-04T12:20:00",
          "2023-10-04T12:30:00",
          "2023-10-04T12:40:00"
         ],
         "xaxis": "x",
         "y": [
          142,
          142,
          142,
          142,
          142,
          142,
          142,
          142,
          142,
          142,
          142,
          142,
          142,
          142,
          142,
          142,
          142,
          142,
          142,
          142,
          142,
          142,
          142,
          142,
          142,
          142,
          142,
          142,
          142,
          142,
          142,
          142,
          142,
          142,
          142,
          142,
          142,
          142,
          142,
          142,
          142,
          142,
          142,
          142,
          142,
          142,
          142,
          142,
          142,
          142,
          142,
          142,
          142,
          142,
          142,
          142,
          142,
          142,
          142,
          142,
          142,
          142,
          142,
          142,
          142,
          142,
          142,
          142,
          142,
          142,
          142,
          142,
          142,
          142,
          142,
          142,
          142,
          142,
          142,
          142,
          142,
          142,
          142,
          142,
          142,
          142,
          142,
          142,
          142,
          142,
          142,
          142,
          142,
          142,
          142,
          142,
          142,
          142,
          142,
          142,
          142,
          142,
          142,
          142,
          142,
          142,
          142,
          142,
          142,
          142,
          142,
          142,
          142,
          142,
          142,
          142,
          142,
          142,
          142,
          142,
          142,
          142,
          142,
          142,
          142,
          142,
          142,
          142,
          142,
          142,
          142,
          142,
          142,
          142
         ],
         "yaxis": "y"
        }
       ],
       "layout": {
        "autosize": true,
        "legend": {
         "tracegroupgap": 0
        },
        "margin": {
         "t": 60
        },
        "template": {
         "data": {
          "bar": [
           {
            "error_x": {
             "color": "#2a3f5f"
            },
            "error_y": {
             "color": "#2a3f5f"
            },
            "marker": {
             "line": {
              "color": "#E5ECF6",
              "width": 0.5
             },
             "pattern": {
              "fillmode": "overlay",
              "size": 10,
              "solidity": 0.2
             }
            },
            "type": "bar"
           }
          ],
          "barpolar": [
           {
            "marker": {
             "line": {
              "color": "#E5ECF6",
              "width": 0.5
             },
             "pattern": {
              "fillmode": "overlay",
              "size": 10,
              "solidity": 0.2
             }
            },
            "type": "barpolar"
           }
          ],
          "carpet": [
           {
            "aaxis": {
             "endlinecolor": "#2a3f5f",
             "gridcolor": "white",
             "linecolor": "white",
             "minorgridcolor": "white",
             "startlinecolor": "#2a3f5f"
            },
            "baxis": {
             "endlinecolor": "#2a3f5f",
             "gridcolor": "white",
             "linecolor": "white",
             "minorgridcolor": "white",
             "startlinecolor": "#2a3f5f"
            },
            "type": "carpet"
           }
          ],
          "choropleth": [
           {
            "colorbar": {
             "outlinewidth": 0,
             "ticks": ""
            },
            "type": "choropleth"
           }
          ],
          "contour": [
           {
            "colorbar": {
             "outlinewidth": 0,
             "ticks": ""
            },
            "colorscale": [
             [
              0,
              "#0d0887"
             ],
             [
              0.1111111111111111,
              "#46039f"
             ],
             [
              0.2222222222222222,
              "#7201a8"
             ],
             [
              0.3333333333333333,
              "#9c179e"
             ],
             [
              0.4444444444444444,
              "#bd3786"
             ],
             [
              0.5555555555555556,
              "#d8576b"
             ],
             [
              0.6666666666666666,
              "#ed7953"
             ],
             [
              0.7777777777777778,
              "#fb9f3a"
             ],
             [
              0.8888888888888888,
              "#fdca26"
             ],
             [
              1,
              "#f0f921"
             ]
            ],
            "type": "contour"
           }
          ],
          "contourcarpet": [
           {
            "colorbar": {
             "outlinewidth": 0,
             "ticks": ""
            },
            "type": "contourcarpet"
           }
          ],
          "heatmap": [
           {
            "colorbar": {
             "outlinewidth": 0,
             "ticks": ""
            },
            "colorscale": [
             [
              0,
              "#0d0887"
             ],
             [
              0.1111111111111111,
              "#46039f"
             ],
             [
              0.2222222222222222,
              "#7201a8"
             ],
             [
              0.3333333333333333,
              "#9c179e"
             ],
             [
              0.4444444444444444,
              "#bd3786"
             ],
             [
              0.5555555555555556,
              "#d8576b"
             ],
             [
              0.6666666666666666,
              "#ed7953"
             ],
             [
              0.7777777777777778,
              "#fb9f3a"
             ],
             [
              0.8888888888888888,
              "#fdca26"
             ],
             [
              1,
              "#f0f921"
             ]
            ],
            "type": "heatmap"
           }
          ],
          "heatmapgl": [
           {
            "colorbar": {
             "outlinewidth": 0,
             "ticks": ""
            },
            "colorscale": [
             [
              0,
              "#0d0887"
             ],
             [
              0.1111111111111111,
              "#46039f"
             ],
             [
              0.2222222222222222,
              "#7201a8"
             ],
             [
              0.3333333333333333,
              "#9c179e"
             ],
             [
              0.4444444444444444,
              "#bd3786"
             ],
             [
              0.5555555555555556,
              "#d8576b"
             ],
             [
              0.6666666666666666,
              "#ed7953"
             ],
             [
              0.7777777777777778,
              "#fb9f3a"
             ],
             [
              0.8888888888888888,
              "#fdca26"
             ],
             [
              1,
              "#f0f921"
             ]
            ],
            "type": "heatmapgl"
           }
          ],
          "histogram": [
           {
            "marker": {
             "pattern": {
              "fillmode": "overlay",
              "size": 10,
              "solidity": 0.2
             }
            },
            "type": "histogram"
           }
          ],
          "histogram2d": [
           {
            "colorbar": {
             "outlinewidth": 0,
             "ticks": ""
            },
            "colorscale": [
             [
              0,
              "#0d0887"
             ],
             [
              0.1111111111111111,
              "#46039f"
             ],
             [
              0.2222222222222222,
              "#7201a8"
             ],
             [
              0.3333333333333333,
              "#9c179e"
             ],
             [
              0.4444444444444444,
              "#bd3786"
             ],
             [
              0.5555555555555556,
              "#d8576b"
             ],
             [
              0.6666666666666666,
              "#ed7953"
             ],
             [
              0.7777777777777778,
              "#fb9f3a"
             ],
             [
              0.8888888888888888,
              "#fdca26"
             ],
             [
              1,
              "#f0f921"
             ]
            ],
            "type": "histogram2d"
           }
          ],
          "histogram2dcontour": [
           {
            "colorbar": {
             "outlinewidth": 0,
             "ticks": ""
            },
            "colorscale": [
             [
              0,
              "#0d0887"
             ],
             [
              0.1111111111111111,
              "#46039f"
             ],
             [
              0.2222222222222222,
              "#7201a8"
             ],
             [
              0.3333333333333333,
              "#9c179e"
             ],
             [
              0.4444444444444444,
              "#bd3786"
             ],
             [
              0.5555555555555556,
              "#d8576b"
             ],
             [
              0.6666666666666666,
              "#ed7953"
             ],
             [
              0.7777777777777778,
              "#fb9f3a"
             ],
             [
              0.8888888888888888,
              "#fdca26"
             ],
             [
              1,
              "#f0f921"
             ]
            ],
            "type": "histogram2dcontour"
           }
          ],
          "mesh3d": [
           {
            "colorbar": {
             "outlinewidth": 0,
             "ticks": ""
            },
            "type": "mesh3d"
           }
          ],
          "parcoords": [
           {
            "line": {
             "colorbar": {
              "outlinewidth": 0,
              "ticks": ""
             }
            },
            "type": "parcoords"
           }
          ],
          "pie": [
           {
            "automargin": true,
            "type": "pie"
           }
          ],
          "scatter": [
           {
            "fillpattern": {
             "fillmode": "overlay",
             "size": 10,
             "solidity": 0.2
            },
            "type": "scatter"
           }
          ],
          "scatter3d": [
           {
            "line": {
             "colorbar": {
              "outlinewidth": 0,
              "ticks": ""
             }
            },
            "marker": {
             "colorbar": {
              "outlinewidth": 0,
              "ticks": ""
             }
            },
            "type": "scatter3d"
           }
          ],
          "scattercarpet": [
           {
            "marker": {
             "colorbar": {
              "outlinewidth": 0,
              "ticks": ""
             }
            },
            "type": "scattercarpet"
           }
          ],
          "scattergeo": [
           {
            "marker": {
             "colorbar": {
              "outlinewidth": 0,
              "ticks": ""
             }
            },
            "type": "scattergeo"
           }
          ],
          "scattergl": [
           {
            "marker": {
             "colorbar": {
              "outlinewidth": 0,
              "ticks": ""
             }
            },
            "type": "scattergl"
           }
          ],
          "scattermapbox": [
           {
            "marker": {
             "colorbar": {
              "outlinewidth": 0,
              "ticks": ""
             }
            },
            "type": "scattermapbox"
           }
          ],
          "scatterpolar": [
           {
            "marker": {
             "colorbar": {
              "outlinewidth": 0,
              "ticks": ""
             }
            },
            "type": "scatterpolar"
           }
          ],
          "scatterpolargl": [
           {
            "marker": {
             "colorbar": {
              "outlinewidth": 0,
              "ticks": ""
             }
            },
            "type": "scatterpolargl"
           }
          ],
          "scatterternary": [
           {
            "marker": {
             "colorbar": {
              "outlinewidth": 0,
              "ticks": ""
             }
            },
            "type": "scatterternary"
           }
          ],
          "surface": [
           {
            "colorbar": {
             "outlinewidth": 0,
             "ticks": ""
            },
            "colorscale": [
             [
              0,
              "#0d0887"
             ],
             [
              0.1111111111111111,
              "#46039f"
             ],
             [
              0.2222222222222222,
              "#7201a8"
             ],
             [
              0.3333333333333333,
              "#9c179e"
             ],
             [
              0.4444444444444444,
              "#bd3786"
             ],
             [
              0.5555555555555556,
              "#d8576b"
             ],
             [
              0.6666666666666666,
              "#ed7953"
             ],
             [
              0.7777777777777778,
              "#fb9f3a"
             ],
             [
              0.8888888888888888,
              "#fdca26"
             ],
             [
              1,
              "#f0f921"
             ]
            ],
            "type": "surface"
           }
          ],
          "table": [
           {
            "cells": {
             "fill": {
              "color": "#EBF0F8"
             },
             "line": {
              "color": "white"
             }
            },
            "header": {
             "fill": {
              "color": "#C8D4E3"
             },
             "line": {
              "color": "white"
             }
            },
            "type": "table"
           }
          ]
         },
         "layout": {
          "annotationdefaults": {
           "arrowcolor": "#2a3f5f",
           "arrowhead": 0,
           "arrowwidth": 1
          },
          "autotypenumbers": "strict",
          "coloraxis": {
           "colorbar": {
            "outlinewidth": 0,
            "ticks": ""
           }
          },
          "colorscale": {
           "diverging": [
            [
             0,
             "#8e0152"
            ],
            [
             0.1,
             "#c51b7d"
            ],
            [
             0.2,
             "#de77ae"
            ],
            [
             0.3,
             "#f1b6da"
            ],
            [
             0.4,
             "#fde0ef"
            ],
            [
             0.5,
             "#f7f7f7"
            ],
            [
             0.6,
             "#e6f5d0"
            ],
            [
             0.7,
             "#b8e186"
            ],
            [
             0.8,
             "#7fbc41"
            ],
            [
             0.9,
             "#4d9221"
            ],
            [
             1,
             "#276419"
            ]
           ],
           "sequential": [
            [
             0,
             "#0d0887"
            ],
            [
             0.1111111111111111,
             "#46039f"
            ],
            [
             0.2222222222222222,
             "#7201a8"
            ],
            [
             0.3333333333333333,
             "#9c179e"
            ],
            [
             0.4444444444444444,
             "#bd3786"
            ],
            [
             0.5555555555555556,
             "#d8576b"
            ],
            [
             0.6666666666666666,
             "#ed7953"
            ],
            [
             0.7777777777777778,
             "#fb9f3a"
            ],
            [
             0.8888888888888888,
             "#fdca26"
            ],
            [
             1,
             "#f0f921"
            ]
           ],
           "sequentialminus": [
            [
             0,
             "#0d0887"
            ],
            [
             0.1111111111111111,
             "#46039f"
            ],
            [
             0.2222222222222222,
             "#7201a8"
            ],
            [
             0.3333333333333333,
             "#9c179e"
            ],
            [
             0.4444444444444444,
             "#bd3786"
            ],
            [
             0.5555555555555556,
             "#d8576b"
            ],
            [
             0.6666666666666666,
             "#ed7953"
            ],
            [
             0.7777777777777778,
             "#fb9f3a"
            ],
            [
             0.8888888888888888,
             "#fdca26"
            ],
            [
             1,
             "#f0f921"
            ]
           ]
          },
          "colorway": [
           "#636efa",
           "#EF553B",
           "#00cc96",
           "#ab63fa",
           "#FFA15A",
           "#19d3f3",
           "#FF6692",
           "#B6E880",
           "#FF97FF",
           "#FECB52"
          ],
          "font": {
           "color": "#2a3f5f"
          },
          "geo": {
           "bgcolor": "white",
           "lakecolor": "white",
           "landcolor": "#E5ECF6",
           "showlakes": true,
           "showland": true,
           "subunitcolor": "white"
          },
          "hoverlabel": {
           "align": "left"
          },
          "hovermode": "closest",
          "mapbox": {
           "style": "light"
          },
          "paper_bgcolor": "white",
          "plot_bgcolor": "#E5ECF6",
          "polar": {
           "angularaxis": {
            "gridcolor": "white",
            "linecolor": "white",
            "ticks": ""
           },
           "bgcolor": "#E5ECF6",
           "radialaxis": {
            "gridcolor": "white",
            "linecolor": "white",
            "ticks": ""
           }
          },
          "scene": {
           "xaxis": {
            "backgroundcolor": "#E5ECF6",
            "gridcolor": "white",
            "gridwidth": 2,
            "linecolor": "white",
            "showbackground": true,
            "ticks": "",
            "zerolinecolor": "white"
           },
           "yaxis": {
            "backgroundcolor": "#E5ECF6",
            "gridcolor": "white",
            "gridwidth": 2,
            "linecolor": "white",
            "showbackground": true,
            "ticks": "",
            "zerolinecolor": "white"
           },
           "zaxis": {
            "backgroundcolor": "#E5ECF6",
            "gridcolor": "white",
            "gridwidth": 2,
            "linecolor": "white",
            "showbackground": true,
            "ticks": "",
            "zerolinecolor": "white"
           }
          },
          "shapedefaults": {
           "line": {
            "color": "#2a3f5f"
           }
          },
          "ternary": {
           "aaxis": {
            "gridcolor": "white",
            "linecolor": "white",
            "ticks": ""
           },
           "baxis": {
            "gridcolor": "white",
            "linecolor": "white",
            "ticks": ""
           },
           "bgcolor": "#E5ECF6",
           "caxis": {
            "gridcolor": "white",
            "linecolor": "white",
            "ticks": ""
           }
          },
          "title": {
           "x": 0.05
          },
          "xaxis": {
           "automargin": true,
           "gridcolor": "white",
           "linecolor": "white",
           "ticks": "",
           "title": {
            "standoff": 15
           },
           "zerolinecolor": "white",
           "zerolinewidth": 2
          },
          "yaxis": {
           "automargin": true,
           "gridcolor": "white",
           "linecolor": "white",
           "ticks": "",
           "title": {
            "standoff": 15
           },
           "zerolinecolor": "white",
           "zerolinewidth": 2
          }
         }
        },
        "xaxis": {
         "anchor": "y",
         "autorange": true,
         "domain": [
          0,
          1
         ],
         "range": [
          "2023-10-02 18:10",
          "2023-10-04 12:40"
         ],
         "title": {
          "text": "datetime"
         },
         "type": "date"
        },
        "yaxis": {
         "anchor": "x",
         "autorange": true,
         "domain": [
          0,
          1
         ],
         "range": [
          141,
          143
         ],
         "title": {
          "text": "cash"
         },
         "type": "linear"
        }
       }
      },
      "image/png": "[encoded data removed]",
      "text/html": [
       "<div>                            <div id=\"3bf90900-50e6-4044-8770-ce1f34699e68\" class=\"plotly-graph-div\" style=\"height:525px; width:100%;\"></div>            <script type=\"text/javascript\">                require([\"plotly\"], function(Plotly) {                    window.PLOTLYENV=window.PLOTLYENV || {};                                    if (document.getElementById(\"3bf90900-50e6-4044-8770-ce1f34699e68\")) {                    Plotly.newPlot(                        \"3bf90900-50e6-4044-8770-ce1f34699e68\",                        [{\"hovertemplate\":\"datetime=%{x}\\u003cbr\\u003ecash=%{y}\\u003cextra\\u003e\\u003c\\u002fextra\\u003e\",\"legendgroup\":\"\",\"line\":{\"color\":\"#636efa\",\"dash\":\"solid\"},\"marker\":{\"symbol\":\"circle\"},\"mode\":\"lines\",\"name\":\"\",\"orientation\":\"v\",\"showlegend\":false,\"x\":[\"2023-10-02T18:10:00\",\"2023-10-02T18:20:00\",\"2023-10-02T18:30:00\",\"2023-10-02T18:40:00\",\"2023-10-02T19:00:00\",\"2023-10-02T19:10:00\",\"2023-10-02T19:20:00\",\"2023-10-02T19:30:00\",\"2023-10-02T19:40:00\",\"2023-10-02T19:50:00\",\"2023-10-02T20:00:00\",\"2023-10-02T20:10:00\",\"2023-10-02T20:20:00\",\"2023-10-02T20:30:00\",\"2023-10-02T20:40:00\",\"2023-10-02T20:50:00\",\"2023-10-02T21:00:00\",\"2023-10-02T21:10:00\",\"2023-10-02T21:20:00\",\"2023-10-02T21:30:00\",\"2023-10-02T21:40:00\",\"2023-10-02T21:50:00\",\"2023-10-02T22:00:00\",\"2023-10-02T22:10:00\",\"2023-10-02T22:20:00\",\"2023-10-02T22:30:00\",\"2023-10-02T22:40:00\",\"2023-10-02T22:50:00\",\"2023-10-02T23:00:00\",\"2023-10-02T23:10:00\",\"2023-10-02T23:20:00\",\"2023-10-02T23:30:00\",\"2023-10-02T23:40:00\",\"2023-10-03T09:50:00\",\"2023-10-03T10:00:00\",\"2023-10-03T10:10:00\",\"2023-10-03T10:20:00\",\"2023-10-03T10:30:00\",\"2023-10-03T10:40:00\",\"2023-10-03T10:50:00\",\"2023-10-03T11:00:00\",\"2023-10-03T11:10:00\",\"2023-10-03T11:20:00\",\"2023-10-03T11:30:00\",\"2023-10-03T11:40:00\",\"2023-10-03T11:50:00\",\"2023-10-03T12:00:00\",\"2023-10-03T12:10:00\",\"2023-10-03T12:20:00\",\"2023-10-03T12:30:00\",\"2023-10-03T12:40:00\",\"2023-10-03T12:50:00\",\"2023-10-03T13:00:00\",\"2023-10-03T13:10:00\",\"2023-10-03T13:20:00\",\"2023-10-03T13:30:00\",\"2023-10-03T13:40:00\",\"2023-10-03T13:50:00\",\"2023-10-03T14:00:00\",\"2023-10-03T14:10:00\",\"2023-10-03T14:20:00\",\"2023-10-03T14:30:00\",\"2023-10-03T14:40:00\",\"2023-10-03T14:50:00\",\"2023-10-03T15:00:00\",\"2023-10-03T15:10:00\",\"2023-10-03T15:20:00\",\"2023-10-03T15:30:00\",\"2023-10-03T15:40:00\",\"2023-10-03T15:50:00\",\"2023-10-03T16:00:00\",\"2023-10-03T16:10:00\",\"2023-10-03T16:20:00\",\"2023-10-03T16:30:00\",\"2023-10-03T16:40:00\",\"2023-10-03T16:50:00\",\"2023-10-03T17:00:00\",\"2023-10-03T17:10:00\",\"2023-10-03T17:20:00\",\"2023-10-03T17:30:00\",\"2023-10-03T17:40:00\",\"2023-10-03T17:50:00\",\"2023-10-03T18:00:00\",\"2023-10-03T18:10:00\",\"2023-10-03T18:20:00\",\"2023-10-03T18:30:00\",\"2023-10-03T18:40:00\",\"2023-10-03T19:00:00\",\"2023-10-03T19:10:00\",\"2023-10-03T19:20:00\",\"2023-10-03T19:30:00\",\"2023-10-03T19:40:00\",\"2023-10-03T19:50:00\",\"2023-10-03T20:00:00\",\"2023-10-03T20:10:00\",\"2023-10-03T20:20:00\",\"2023-10-03T20:30:00\",\"2023-10-03T20:40:00\",\"2023-10-03T20:50:00\",\"2023-10-03T21:00:00\",\"2023-10-03T21:10:00\",\"2023-10-03T21:20:00\",\"2023-10-03T21:30:00\",\"2023-10-03T21:40:00\",\"2023-10-03T21:50:00\",\"2023-10-03T22:00:00\",\"2023-10-03T22:10:00\",\"2023-10-03T22:20:00\",\"2023-10-03T22:30:00\",\"2023-10-03T22:40:00\",\"2023-10-03T22:50:00\",\"2023-10-03T23:00:00\",\"2023-10-03T23:10:00\",\"2023-10-03T23:20:00\",\"2023-10-03T23:30:00\",\"2023-10-03T23:40:00\",\"2023-10-04T09:50:00\",\"2023-10-04T10:00:00\",\"2023-10-04T10:10:00\",\"2023-10-04T10:20:00\",\"2023-10-04T10:30:00\",\"2023-10-04T10:40:00\",\"2023-10-04T10:50:00\",\"2023-10-04T11:00:00\",\"2023-10-04T11:10:00\",\"2023-10-04T11:20:00\",\"2023-10-04T11:30:00\",\"2023-10-04T11:40:00\",\"2023-10-04T11:50:00\",\"2023-10-04T12:00:00\",\"2023-10-04T12:10:00\",\"2023-10-04T12:20:00\",\"2023-10-04T12:30:00\",\"2023-10-04T12:40:00\"],\"xaxis\":\"x\",\"y\":[142.0,142.0,142.0,142.0,142.0,142.0,142.0,142.0,142.0,142.0,142.0,142.0,142.0,142.0,142.0,142.0,142.0,142.0,142.0,142.0,142.0,142.0,142.0,142.0,142.0,142.0,142.0,142.0,142.0,142.0,142.0,142.0,142.0,142.0,142.0,142.0,142.0,142.0,142.0,142.0,142.0,142.0,142.0,142.0,142.0,142.0,142.0,142.0,142.0,142.0,142.0,142.0,142.0,142.0,142.0,142.0,142.0,142.0,142.0,142.0,142.0,142.0,142.0,142.0,142.0,142.0,142.0,142.0,142.0,142.0,142.0,142.0,142.0,142.0,142.0,142.0,142.0,142.0,142.0,142.0,142.0,142.0,142.0,142.0,142.0,142.0,142.0,142.0,142.0,142.0,142.0,142.0,142.0,142.0,142.0,142.0,142.0,142.0,142.0,142.0,142.0,142.0,142.0,142.0,142.0,142.0,142.0,142.0,142.0,142.0,142.0,142.0,142.0,142.0,142.0,142.0,142.0,142.0,142.0,142.0,142.0,142.0,142.0,142.0,142.0,142.0,142.0,142.0,142.0,142.0,142.0,142.0,142.0,142.0],\"yaxis\":\"y\",\"type\":\"scatter\"}],                        {\"template\":{\"data\":{\"histogram2dcontour\":[{\"type\":\"histogram2dcontour\",\"colorbar\":{\"outlinewidth\":0,\"ticks\":\"\"},\"colorscale\":[[0.0,\"#0d0887\"],[0.1111111111111111,\"#46039f\"],[0.2222222222222222,\"#7201a8\"],[0.3333333333333333,\"#9c179e\"],[0.4444444444444444,\"#bd3786\"],[0.5555555555555556,\"#d8576b\"],[0.6666666666666666,\"#ed7953\"],[0.7777777777777778,\"#fb9f3a\"],[0.8888888888888888,\"#fdca26\"],[1.0,\"#f0f921\"]]}],\"choropleth\":[{\"type\":\"choropleth\",\"colorbar\":{\"outlinewidth\":0,\"ticks\":\"\"}}],\"histogram2d\":[{\"type\":\"histogram2d\",\"colorbar\":{\"outlinewidth\":0,\"ticks\":\"\"},\"colorscale\":[[0.0,\"#0d0887\"],[0.1111111111111111,\"#46039f\"],[0.2222222222222222,\"#7201a8\"],[0.3333333333333333,\"#9c179e\"],[0.4444444444444444,\"#bd3786\"],[0.5555555555555556,\"#d8576b\"],[0.6666666666666666,\"#ed7953\"],[0.7777777777777778,\"#fb9f3a\"],[0.8888888888888888,\"#fdca26\"],[1.0,\"#f0f921\"]]}],\"heatmap\":[{\"type\":\"heatmap\",\"colorbar\":{\"outlinewidth\":0,\"ticks\":\"\"},\"colorscale\":[[0.0,\"#0d0887\"],[0.1111111111111111,\"#46039f\"],[0.2222222222222222,\"#7201a8\"],[0.3333333333333333,\"#9c179e\"],[0.4444444444444444,\"#bd3786\"],[0.5555555555555556,\"#d8576b\"],[0.6666666666666666,\"#ed7953\"],[0.7777777777777778,\"#fb9f3a\"],[0.8888888888888888,\"#fdca26\"],[1.0,\"#f0f921\"]]}],\"heatmapgl\":[{\"type\":\"heatmapgl\",\"colorbar\":{\"outlinewidth\":0,\"ticks\":\"\"},\"colorscale\":[[0.0,\"#0d0887\"],[0.1111111111111111,\"#46039f\"],[0.2222222222222222,\"#7201a8\"],[0.3333333333333333,\"#9c179e\"],[0.4444444444444444,\"#bd3786\"],[0.5555555555555556,\"#d8576b\"],[0.6666666666666666,\"#ed7953\"],[0.7777777777777778,\"#fb9f3a\"],[0.8888888888888888,\"#fdca26\"],[1.0,\"#f0f921\"]]}],\"contourcarpet\":[{\"type\":\"contourcarpet\",\"colorbar\":{\"outlinewidth\":0,\"ticks\":\"\"}}],\"contour\":[{\"type\":\"contour\",\"colorbar\":{\"outlinewidth\":0,\"ticks\":\"\"},\"colorscale\":[[0.0,\"#0d0887\"],[0.1111111111111111,\"#46039f\"],[0.2222222222222222,\"#7201a8\"],[0.3333333333333333,\"#9c179e\"],[0.4444444444444444,\"#bd3786\"],[0.5555555555555556,\"#d8576b\"],[0.6666666666666666,\"#ed7953\"],[0.7777777777777778,\"#fb9f3a\"],[0.8888888888888888,\"#fdca26\"],[1.0,\"#f0f921\"]]}],\"surface\":[{\"type\":\"surface\",\"colorbar\":{\"outlinewidth\":0,\"ticks\":\"\"},\"colorscale\":[[0.0,\"#0d0887\"],[0.1111111111111111,\"#46039f\"],[0.2222222222222222,\"#7201a8\"],[0.3333333333333333,\"#9c179e\"],[0.4444444444444444,\"#bd3786\"],[0.5555555555555556,\"#d8576b\"],[0.6666666666666666,\"#ed7953\"],[0.7777777777777778,\"#fb9f3a\"],[0.8888888888888888,\"#fdca26\"],[1.0,\"#f0f921\"]]}],\"mesh3d\":[{\"type\":\"mesh3d\",\"colorbar\":{\"outlinewidth\":0,\"ticks\":\"\"}}],\"scatter\":[{\"fillpattern\":{\"fillmode\":\"overlay\",\"size\":10,\"solidity\":0.2},\"type\":\"scatter\"}],\"parcoords\":[{\"type\":\"parcoords\",\"line\":{\"colorbar\":{\"outlinewidth\":0,\"ticks\":\"\"}}}],\"scatterpolargl\":[{\"type\":\"scatterpolargl\",\"marker\":{\"colorbar\":{\"outlinewidth\":0,\"ticks\":\"\"}}}],\"bar\":[{\"error_x\":{\"color\":\"#2a3f5f\"},\"error_y\":{\"color\":\"#2a3f5f\"},\"marker\":{\"line\":{\"color\":\"#E5ECF6\",\"width\":0.5},\"pattern\":{\"fillmode\":\"overlay\",\"size\":10,\"solidity\":0.2}},\"type\":\"bar\"}],\"scattergeo\":[{\"type\":\"scattergeo\",\"marker\":{\"colorbar\":{\"outlinewidth\":0,\"ticks\":\"\"}}}],\"scatterpolar\":[{\"type\":\"scatterpolar\",\"marker\":{\"colorbar\":{\"outlinewidth\":0,\"ticks\":\"\"}}}],\"histogram\":[{\"marker\":{\"pattern\":{\"fillmode\":\"overlay\",\"size\":10,\"solidity\":0.2}},\"type\":\"histogram\"}],\"scattergl\":[{\"type\":\"scattergl\",\"marker\":{\"colorbar\":{\"outlinewidth\":0,\"ticks\":\"\"}}}],\"scatter3d\":[{\"type\":\"scatter3d\",\"line\":{\"colorbar\":{\"outlinewidth\":0,\"ticks\":\"\"}},\"marker\":{\"colorbar\":{\"outlinewidth\":0,\"ticks\":\"\"}}}],\"scattermapbox\":[{\"type\":\"scattermapbox\",\"marker\":{\"colorbar\":{\"outlinewidth\":0,\"ticks\":\"\"}}}],\"scatterternary\":[{\"type\":\"scatterternary\",\"marker\":{\"colorbar\":{\"outlinewidth\":0,\"ticks\":\"\"}}}],\"scattercarpet\":[{\"type\":\"scattercarpet\",\"marker\":{\"colorbar\":{\"outlinewidth\":0,\"ticks\":\"\"}}}],\"carpet\":[{\"aaxis\":{\"endlinecolor\":\"#2a3f5f\",\"gridcolor\":\"white\",\"linecolor\":\"white\",\"minorgridcolor\":\"white\",\"startlinecolor\":\"#2a3f5f\"},\"baxis\":{\"endlinecolor\":\"#2a3f5f\",\"gridcolor\":\"white\",\"linecolor\":\"white\",\"minorgridcolor\":\"white\",\"startlinecolor\":\"#2a3f5f\"},\"type\":\"carpet\"}],\"table\":[{\"cells\":{\"fill\":{\"color\":\"#EBF0F8\"},\"line\":{\"color\":\"white\"}},\"header\":{\"fill\":{\"color\":\"#C8D4E3\"},\"line\":{\"color\":\"white\"}},\"type\":\"table\"}],\"barpolar\":[{\"marker\":{\"line\":{\"color\":\"#E5ECF6\",\"width\":0.5},\"pattern\":{\"fillmode\":\"overlay\",\"size\":10,\"solidity\":0.2}},\"type\":\"barpolar\"}],\"pie\":[{\"automargin\":true,\"type\":\"pie\"}]},\"layout\":{\"autotypenumbers\":\"strict\",\"colorway\":[\"#636efa\",\"#EF553B\",\"#00cc96\",\"#ab63fa\",\"#FFA15A\",\"#19d3f3\",\"#FF6692\",\"#B6E880\",\"#FF97FF\",\"#FECB52\"],\"font\":{\"color\":\"#2a3f5f\"},\"hovermode\":\"closest\",\"hoverlabel\":{\"align\":\"left\"},\"paper_bgcolor\":\"white\",\"plot_bgcolor\":\"#E5ECF6\",\"polar\":{\"bgcolor\":\"#E5ECF6\",\"angularaxis\":{\"gridcolor\":\"white\",\"linecolor\":\"white\",\"ticks\":\"\"},\"radialaxis\":{\"gridcolor\":\"white\",\"linecolor\":\"white\",\"ticks\":\"\"}},\"ternary\":{\"bgcolor\":\"#E5ECF6\",\"aaxis\":{\"gridcolor\":\"white\",\"linecolor\":\"white\",\"ticks\":\"\"},\"baxis\":{\"gridcolor\":\"white\",\"linecolor\":\"white\",\"ticks\":\"\"},\"caxis\":{\"gridcolor\":\"white\",\"linecolor\":\"white\",\"ticks\":\"\"}},\"coloraxis\":{\"colorbar\":{\"outlinewidth\":0,\"ticks\":\"\"}},\"colorscale\":{\"sequential\":[[0.0,\"#0d0887\"],[0.1111111111111111,\"#46039f\"],[0.2222222222222222,\"#7201a8\"],[0.3333333333333333,\"#9c179e\"],[0.4444444444444444,\"#bd3786\"],[0.5555555555555556,\"#d8576b\"],[0.6666666666666666,\"#ed7953\"],[0.7777777777777778,\"#fb9f3a\"],[0.8888888888888888,\"#fdca26\"],[1.0,\"#f0f921\"]],\"sequentialminus\":[[0.0,\"#0d0887\"],[0.1111111111111111,\"#46039f\"],[0.2222222222222222,\"#7201a8\"],[0.3333333333333333,\"#9c179e\"],[0.4444444444444444,\"#bd3786\"],[0.5555555555555556,\"#d8576b\"],[0.6666666666666666,\"#ed7953\"],[0.7777777777777778,\"#fb9f3a\"],[0.8888888888888888,\"#fdca26\"],[1.0,\"#f0f921\"]],\"diverging\":[[0,\"#8e0152\"],[0.1,\"#c51b7d\"],[0.2,\"#de77ae\"],[0.3,\"#f1b6da\"],[0.4,\"#fde0ef\"],[0.5,\"#f7f7f7\"],[0.6,\"#e6f5d0\"],[0.7,\"#b8e186\"],[0.8,\"#7fbc41\"],[0.9,\"#4d9221\"],[1,\"#276419\"]]},\"xaxis\":{\"gridcolor\":\"white\",\"linecolor\":\"white\",\"ticks\":\"\",\"title\":{\"standoff\":15},\"zerolinecolor\":\"white\",\"automargin\":true,\"zerolinewidth\":2},\"yaxis\":{\"gridcolor\":\"white\",\"linecolor\":\"white\",\"ticks\":\"\",\"title\":{\"standoff\":15},\"zerolinecolor\":\"white\",\"automargin\":true,\"zerolinewidth\":2},\"scene\":{\"xaxis\":{\"backgroundcolor\":\"#E5ECF6\",\"gridcolor\":\"white\",\"linecolor\":\"white\",\"showbackground\":true,\"ticks\":\"\",\"zerolinecolor\":\"white\",\"gridwidth\":2},\"yaxis\":{\"backgroundcolor\":\"#E5ECF6\",\"gridcolor\":\"white\",\"linecolor\":\"white\",\"showbackground\":true,\"ticks\":\"\",\"zerolinecolor\":\"white\",\"gridwidth\":2},\"zaxis\":{\"backgroundcolor\":\"#E5ECF6\",\"gridcolor\":\"white\",\"linecolor\":\"white\",\"showbackground\":true,\"ticks\":\"\",\"zerolinecolor\":\"white\",\"gridwidth\":2}},\"shapedefaults\":{\"line\":{\"color\":\"#2a3f5f\"}},\"annotationdefaults\":{\"arrowcolor\":\"#2a3f5f\",\"arrowhead\":0,\"arrowwidth\":1},\"geo\":{\"bgcolor\":\"white\",\"landcolor\":\"#E5ECF6\",\"subunitcolor\":\"white\",\"showland\":true,\"showlakes\":true,\"lakecolor\":\"white\"},\"title\":{\"x\":0.05},\"mapbox\":{\"style\":\"light\"}}},\"xaxis\":{\"anchor\":\"y\",\"domain\":[0.0,1.0],\"title\":{\"text\":\"datetime\"}},\"yaxis\":{\"anchor\":\"x\",\"domain\":[0.0,1.0],\"title\":{\"text\":\"cash\"}},\"legend\":{\"tracegroupgap\":0},\"margin\":{\"t\":60}},                        {\"responsive\": true}                    ).then(function(){\n",
       "                            \n",
       "var gd = document.getElementById('3bf90900-50e6-4044-8770-ce1f34699e68');\n",
       "var x = new MutationObserver(function (mutations, observer) {{\n",
       "        var display = window.getComputedStyle(gd).display;\n",
       "        if (!display || display === 'none') {{\n",
       "            console.log([gd, 'removed!']);\n",
       "            Plotly.purge(gd);\n",
       "            observer.disconnect();\n",
       "        }}\n",
       "}});\n",
       "\n",
       "// Listen for the removal of the full notebook cells\n",
       "var notebookContainer = gd.closest('#notebook-container');\n",
       "if (notebookContainer) {{\n",
       "    x.observe(notebookContainer, {childList: true});\n",
       "}}\n",
       "\n",
       "// Listen for the clearing of the current output cell\n",
       "var outputEl = gd.closest('.output');\n",
       "if (outputEl) {{\n",
       "    x.observe(outputEl, {childList: true});\n",
       "}}\n",
       "\n",
       "                        })                };                });            </script>        </div>"
      ]
     },
     "metadata": {},
     "output_type": "display_data"
    }
   ],
   "source": [
    "pd.options.plotting.backend = \"plotly\"\n",
    "fig = test1.plot(x='datetime', y='total_money')\n",
    "fig.show()\n",
    "fig2 = test1.plot(x='datetime', y='cash')\n",
    "fig2.show()"
   ]
  },
  {
   "cell_type": "code",
   "execution_count": 33,
   "id": "25273e3f-7664-4c6c-bc6c-9c5365162419",
   "metadata": {},
   "outputs": [
    {
     "data": {
      "text/plain": [
       "999998400.0"
      ]
     },
     "execution_count": 33,
     "metadata": {},
     "output_type": "execute_result"
    }
   ],
   "source": [
    "start = test1.total_money.head(1).values[0]\n",
    "start"
   ]
  },
  {
   "cell_type": "code",
   "execution_count": 35,
   "id": "ff3e451e-fa5c-4b3b-b587-28a2c31ffd00",
   "metadata": {},
   "outputs": [
    {
     "data": {
      "text/plain": [
       "1016854528.0"
      ]
     },
     "execution_count": 35,
     "metadata": {},
     "output_type": "execute_result"
    }
   ],
   "source": [
    "end = test1.total_money.tail(1).values[0]\n",
    "end"
   ]
  },
  {
   "cell_type": "code",
   "execution_count": 59,
   "id": "f1775d6f-841e-4ebf-b6cc-57800da865c0",
   "metadata": {},
   "outputs": [
    {
     "data": {
      "text/plain": [
       "Timestamp('2023-10-04 12:40:00')"
      ]
     },
     "execution_count": 59,
     "metadata": {},
     "output_type": "execute_result"
    }
   ],
   "source": [
    "test1.datetime.max()"
   ]
  },
  {
   "cell_type": "code",
   "execution_count": 37,
   "id": "06740987-4e9f-449b-8a83-dc20c16484e2",
   "metadata": {},
   "outputs": [
    {
     "data": {
      "text/plain": [
       "16856128.0"
      ]
     },
     "execution_count": 37,
     "metadata": {},
     "output_type": "execute_result"
    }
   ],
   "source": [
    "profit = end - start\n",
    "profit"
   ]
  },
  {
   "cell_type": "code",
   "execution_count": 39,
   "id": "6a2352a9-e0c0-4ecb-a5dd-7fc7107de913",
   "metadata": {},
   "outputs": [
    {
     "data": {
      "text/plain": [
       "1.6856128000000001"
      ]
     },
     "execution_count": 39,
     "metadata": {},
     "output_type": "execute_result"
    }
   ],
   "source": [
    "16856128.0 / 1000000000.0 * 100"
   ]
  },
  {
   "cell_type": "code",
   "execution_count": null,
   "id": "4e945806-4ced-47a2-9ebd-ae04eaf3aaaf",
   "metadata": {},
   "outputs": [],
   "source": [
    "(1.686) / ()"
   ]
  },
  {
   "cell_type": "code",
   "execution_count": null,
   "id": "eb44b737-f958-423c-b795-83f83959af15",
   "metadata": {},
   "outputs": [],
   "source": [
    "import statistics"
   ]
  },
  {
   "cell_type": "code",
   "execution_count": 44,
   "id": "f823dcd3-5440-4da5-b8ec-d49cdce9c09e",
   "metadata": {},
   "outputs": [
    {
     "data": {
      "text/plain": [
       "[]"
      ]
     },
     "execution_count": 44,
     "metadata": {},
     "output_type": "execute_result"
    },
    {
     "data": {
      "image/png": "[encoded data removed]",
      "text/plain": [
       "<Figure size 800x600 with 2 Axes>"
      ]
     },
     "metadata": {},
     "output_type": "display_data"
    }
   ],
   "source": [
    "#import yfinance as yf\n",
    "import matplotlib.pyplot as plt\n",
    "\n",
    "# We download Apple stock prices since 2020 01 02\n",
    "#df = yf.download([\"AAPL\"], start='2020-01-02')\n",
    "df = test1\n",
    "\n",
    "# We compute the portfolio's returns\n",
    "portfolio_returns = (df[\"total_money\"] - df[\"total_money\"][0]) / df[\"total_money\"][0]\n",
    "\n",
    "# We compute the standard deviation of the excess return here as risk free rate\n",
    "# is 0 the excess return equal the portfolio's returns\n",
    "portfolio_std = returns.std()\n",
    "\n",
    "# We compute the sharpe ratio\n",
    "portfolio_sharpe = portfolio_returns  / portfolio_std\n",
    "\n",
    "# We plot the canvas\n",
    "fig, axes = plt.subplots(2,1, figsize=(8,6), sharex=True)\n",
    "\n",
    "# We plot the close prices\n",
    "axes[0].plot(df[\"total_money\"])\n",
    "axes[0].set_title(\"total_money\")\n",
    "axes[0].grid()\n",
    "\n",
    "# We plot the portfolio sharpe ratio evolution\n",
    "axes[1].plot(portfolio_sharpe, c='tab:orange')\n",
    "axes[1].set_title(\"total_money sharpe ratio evolution\")\n",
    "axes[1].set_ylabel(\"Sharpe ratio\")\n",
    "axes[1].grid()\n",
    "\n",
    "# We clean and tidy our plot\n",
    "fig.tight_layout()\n",
    "\n",
    "# We plot it\n",
    "plt.plot()"
   ]
  },
  {
   "cell_type": "code",
   "execution_count": 47,
   "id": "c888065d-085c-4c8d-b33a-747d0a7ba648",
   "metadata": {},
   "outputs": [],
   "source": [
    "from empyrical import sharpe_ratio, cum_returns"
   ]
  },
  {
   "cell_type": "code",
   "execution_count": 48,
   "id": "96e45b86-e8ac-4cd3-8a2a-d1d386ea07b8",
   "metadata": {},
   "outputs": [
    {
     "name": "stderr",
     "output_type": "stream",
     "text": [
      "C:\\Users\\mdurov\\AppData\\Local\\pypoetry\\Cache\\virtualenvs\\algo-neoquantxperience-QQLI2uIG-py3.9\\lib\\site-packages\\empyrical\\stats.py:262: RuntimeWarning: overflow encountered in accumulate\n",
      "  out.cumprod(axis=0, out=out)\n",
      "C:\\Users\\mdurov\\AppData\\Local\\pypoetry\\Cache\\virtualenvs\\algo-neoquantxperience-QQLI2uIG-py3.9\\lib\\site-packages\\numpy\\lib\\nanfunctions.py:1740: RuntimeWarning: invalid value encountered in subtract\n",
      "  np.subtract(arr, avg, out=arr, casting='unsafe', where=where)\n"
     ]
    },
    {
     "data": {
      "text/plain": [
       "nan"
      ]
     },
     "execution_count": 48,
     "metadata": {},
     "output_type": "execute_result"
    }
   ],
   "source": [
    "sharpe_ratio(cum_returns(test1.total_money), 0.1)"
   ]
  },
  {
   "cell_type": "code",
   "execution_count": 66,
   "id": "1da71892-fd12-45a3-8e90-d04b1b23052d",
   "metadata": {},
   "outputs": [],
   "source": [
    "TINKOFF_API_TICKERS = {'AFKS': 'BBG004S68614', 'AFLT': 'BBG004S683W7',\n",
    " 'AGRO': 'BBG007N0Z367', 'ALRS': 'BBG004S68B31',\n",
    " 'CBOM': 'BBG009GSYN76', 'CHMF': 'BBG00475K6C3',\n",
    " 'ENPG': 'BBG000RMWQD4', 'FEES': 'BBG00475JZZ6',\n",
    " 'FIVE': 'BBG00JXPFBN0', 'GAZP': 'BBG004730RP0',\n",
    " 'GLTR': 'BBG000VFX6Y4', 'GMKN': 'BBG004731489',\n",
    " 'HYDR': 'BBG00475K2X9', 'IRAO': 'BBG004S68473',\n",
    " 'LKOH': 'BBG004731032', 'MAGN': 'BBG004S68507',\n",
    " 'MGNT': 'BBG004RVFCY3', 'MOEX': 'BBG004730JJ5',\n",
    " 'MTSS': 'BBG004S681W1', 'NLMK': 'BBG004S681B4',\n",
    " 'NVTK': 'BBG00475KKY8', 'OZON': 'BBG00Y91R9T3',\n",
    " 'PHOR': 'BBG004S689R0', 'PIKK': 'BBG004S68BH6',\n",
    " 'PLZL': 'BBG000R607Y3', 'POLY': 'BBG004PYF2N3',\n",
    " 'POSI': 'TCS00A103X66', 'QIWI': 'BBG005D1WCQ1',\n",
    " 'ROSN': 'BBG004731354', 'RTKM': 'BBG004S682Z6',\n",
    " 'RUAL': 'BBG008F2T3T2', 'SBER': 'BBG004730N88',\n",
    " 'SBERP': 'BBG0047315Y7', 'SELG': 'BBG002458LF8',\n",
    " 'SGZH': 'BBG0100R9963', 'SNGS': 'BBG0047315D0',\n",
    " 'SNGSP': 'BBG004S681M2', 'TATN': 'BBG004RVFFC0',\n",
    " 'TATNP': 'BBG004S68829', 'TCSG': 'BBG00QPYJ5H0',\n",
    " 'TRNFP': 'BBG00475KHX6', 'UPRO': 'BBG004S686W0',\n",
    " 'VKCO': 'TCS00A106YF0', 'VTBR': 'BBG004730ZJ9',\n",
    " 'YNDX': 'BBG006L8G4H1'}"
   ]
  },
  {
   "cell_type": "code",
   "execution_count": 67,
   "id": "0c18d8a6-fe28-4b99-9ca7-ab268a147f2a",
   "metadata": {},
   "outputs": [],
   "source": [
    "inv_map = {v: k for k, v in TINKOFF_API_TICKERS.items()}"
   ]
  },
  {
   "cell_type": "code",
   "execution_count": 68,
   "id": "980b25a0-df5d-428d-bd6d-2b0e09f82988",
   "metadata": {},
   "outputs": [
    {
     "data": {
      "text/plain": [
       "{'BBG004S68614': 'AFKS',\n",
       " 'BBG004S683W7': 'AFLT',\n",
       " 'BBG007N0Z367': 'AGRO',\n",
       " 'BBG004S68B31': 'ALRS',\n",
       " 'BBG009GSYN76': 'CBOM',\n",
       " 'BBG00475K6C3': 'CHMF',\n",
       " 'BBG000RMWQD4': 'ENPG',\n",
       " 'BBG00475JZZ6': 'FEES',\n",
       " 'BBG00JXPFBN0': 'FIVE',\n",
       " 'BBG004730RP0': 'GAZP',\n",
       " 'BBG000VFX6Y4': 'GLTR',\n",
       " 'BBG004731489': 'GMKN',\n",
       " 'BBG00475K2X9': 'HYDR',\n",
       " 'BBG004S68473': 'IRAO',\n",
       " 'BBG004731032': 'LKOH',\n",
       " 'BBG004S68507': 'MAGN',\n",
       " 'BBG004RVFCY3': 'MGNT',\n",
       " 'BBG004730JJ5': 'MOEX',\n",
       " 'BBG004S681W1': 'MTSS',\n",
       " 'BBG004S681B4': 'NLMK',\n",
       " 'BBG00475KKY8': 'NVTK',\n",
       " 'BBG00Y91R9T3': 'OZON',\n",
       " 'BBG004S689R0': 'PHOR',\n",
       " 'BBG004S68BH6': 'PIKK',\n",
       " 'BBG000R607Y3': 'PLZL',\n",
       " 'BBG004PYF2N3': 'POLY',\n",
       " 'TCS00A103X66': 'POSI',\n",
       " 'BBG005D1WCQ1': 'QIWI',\n",
       " 'BBG004731354': 'ROSN',\n",
       " 'BBG004S682Z6': 'RTKM',\n",
       " 'BBG008F2T3T2': 'RUAL',\n",
       " 'BBG004730N88': 'SBER',\n",
       " 'BBG0047315Y7': 'SBERP',\n",
       " 'BBG002458LF8': 'SELG',\n",
       " 'BBG0100R9963': 'SGZH',\n",
       " 'BBG0047315D0': 'SNGS',\n",
       " 'BBG004S681M2': 'SNGSP',\n",
       " 'BBG004RVFFC0': 'TATN',\n",
       " 'BBG004S68829': 'TATNP',\n",
       " 'BBG00QPYJ5H0': 'TCSG',\n",
       " 'BBG00475KHX6': 'TRNFP',\n",
       " 'BBG004S686W0': 'UPRO',\n",
       " 'TCS00A106YF0': 'VKCO',\n",
       " 'BBG004730ZJ9': 'VTBR',\n",
       " 'BBG006L8G4H1': 'YNDX'}"
      ]
     },
     "execution_count": 68,
     "metadata": {},
     "output_type": "execute_result"
    }
   ],
   "source": [
    "inv_map"
   ]
  }
 ],
 "metadata": {
  "kernelspec": {
   "display_name": "Python 3 (ipykernel)",
   "language": "python",
   "name": "python3"
  },
  "language_info": {
   "codemirror_mode": {
    "name": "ipython",
    "version": 3
   },
   "file_extension": ".py",
   "mimetype": "text/x-python",
   "name": "python",
   "nbconvert_exporter": "python",
   "pygments_lexer": "ipython3",
   "version": "3.9.13"
  }
 },
 "nbformat": 4,
 "nbformat_minor": 5
}
