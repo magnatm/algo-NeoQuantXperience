{
 "cells": [
  {
   "cell_type": "code",
   "execution_count": 1,
   "id": "b6f9985e-3d88-4271-be78-7357dfadb9ec",
   "metadata": {},
   "outputs": [],
   "source": [
    "import os\n",
    "import pandas as pd\n",
    "from algo_neoquantxperience.common_constants import NEWS_DATA\n",
    "# os.chdir(r'C:\\algo_hack\\algo-NeoQuantXperience\\algo_neoquantxperience')"
   ]
  },
  {
   "cell_type": "code",
   "execution_count": null,
   "id": "a9925e61-b22a-411a-8ef1-ca31ddf32d1b",
   "metadata": {},
   "outputs": [],
   "source": [
    "from algo_neoquantxperience.algotrader.AlgoTrader import Dispatcher\n",
    "import torch"
   ]
  },
  {
   "cell_type": "code",
   "execution_count": null,
   "id": "29ec12f5-c398-482c-8486-aaff94ab3498",
   "metadata": {},
   "outputs": [],
   "source": [
    "top_45_ids = ['AFKS', 'AFLT', 'AGRO', 'ALRS', 'CBOM', 'CHMF', 'ENPG', 'FEES',\n",
    "       'FIVE', 'GAZP', 'GLTR', 'GMKN', 'HYDR', 'IRAO', 'LKOH', 'MAGN',\n",
    "       'MGNT', 'MOEX', 'MTSS', 'NLMK', 'NVTK', 'OZON', 'PHOR', 'PIKK',\n",
    "       'PLZL', 'POLY', 'POSI', 'QIWI', 'ROSN', 'RTKM', 'RUAL', 'SBER',\n",
    "       'SBERP', 'SELG', 'SGZH', 'SNGS', 'SNGSP', 'TATN', 'TATNP', 'TCSG',\n",
    "       'TRNFP', 'UPRO', 'VKCO', 'VTBR', 'YNDX']"
   ]
  },
  {
   "cell_type": "code",
   "execution_count": 56,
   "id": "60c650ec-43ab-4a96-9187-1c9090fbadb0",
   "metadata": {},
   "outputs": [],
   "source": [
    "df_45_by_10min = pd.read_csv('datasets_for_algotrader/BACKTEST_algo_candles_by_10min.csv', parse_dates=['begin', 'end'])"
   ]
  },
  {
   "cell_type": "code",
   "execution_count": null,
   "id": "3f5e2004-6092-49ec-a7f9-fa476a1b1bd1",
   "metadata": {},
   "outputs": [],
   "source": [
    "stime = sorted(list(df_45_by_10min['begin'].unique()))[1200]"
   ]
  },
  {
   "cell_type": "code",
   "execution_count": null,
   "id": "75002dd2-bb81-4ee5-bb8e-788a5991d646",
   "metadata": {},
   "outputs": [],
   "source": [
    "start_prices = df_45_by_10min[df_45_by_10min['begin']==stime]['open']"
   ]
  },
  {
   "cell_type": "code",
   "execution_count": null,
   "id": "f417cb60-15dc-4606-8e04-4371169405b2",
   "metadata": {},
   "outputs": [],
   "source": [
    "dispatcher = Dispatcher(100000, default_prices=start_prices)\n",
    "dispatcher.backtest_algotrader(df_45_by_10min, NEWS_DATA)"
   ]
  }
 ],
 "metadata": {
  "kernelspec": {
   "display_name": "Python 3 (ipykernel)",
   "language": "python",
   "name": "python3"
  },
  "language_info": {
   "codemirror_mode": {
    "name": "ipython",
    "version": 3
   },
   "file_extension": ".py",
   "mimetype": "text/x-python",
   "name": "python",
   "nbconvert_exporter": "python",
   "pygments_lexer": "ipython3",
   "version": "3.9.13"
  }
 },
 "nbformat": 4,
 "nbformat_minor": 5
}
